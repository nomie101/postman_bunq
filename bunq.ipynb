{
 "cells": [
  {
   "cell_type": "markdown",
   "id": "1b2f1889-a5d8-4af1-9d29-c1666c93d8c2",
   "metadata": {},
   "source": [
    "#INGEST STATEMENT"
   ]
  },
  {
   "cell_type": "code",
   "execution_count": 1,
   "id": "db036d60-ec61-4fc0-bebf-2bfca348d10a",
   "metadata": {},
   "outputs": [],
   "source": [
    "%run modules/ingest_statement.ipynb "
   ]
  },
  {
   "cell_type": "code",
   "execution_count": 2,
   "id": "82b6f9db-0ec2-48c0-941d-3ee221c06d61",
   "metadata": {},
   "outputs": [],
   "source": [
    "one_drive_link_bunq=create_onedrive_directdownload('https://1drv.ms/x/s!AiVkYGtq2xelg8Qdj0pRi33vVMMzag?e=TpHMBp')"
   ]
  },
  {
   "cell_type": "code",
   "execution_count": 3,
   "id": "fc605ede-fe83-4112-aec8-873ff86da522",
   "metadata": {},
   "outputs": [
    {
     "name": "stdout",
     "output_type": "stream",
     "text": [
      "+-------------------+-------------------+-------+------------------+--------------------+--------------------+--------------------+\n",
      "|               Date|      Interest Date| Amount|           Account|        Counterparty|                Name|         Description|\n",
      "+-------------------+-------------------+-------+------------------+--------------------+--------------------+--------------------+\n",
      "|2022-01-01 00:00:00|2022-01-01 00:00:00|   0.09|NL38BUNQ2064666400|  NL85BUNQ2067219952|                bunq|    Interest payment|\n",
      "|2022-01-03 00:00:00|2022-01-03 00:00:00|  -75.0|NL38BUNQ2064666400|  NL54INGB0000000503|Vattenfall Klante...|515403848746 Fact...|\n",
      "|2022-01-04 00:00:00|2022-01-05 00:00:00| -300.0|NL38BUNQ2064666400|GB90ABBY090128056...|       Nomzamo Ncube|                null|\n",
      "|2022-01-05 00:00:00|2022-01-05 00:00:00|  -15.0|NL38BUNQ2064666400|  NL62ABNA0462625036|       BUDGET MOBIEL|O226496421/+31610...|\n",
      "|2022-01-06 00:00:00|2022-01-06 00:00:00|  -43.0|NL38BUNQ2064666400|  NL18INGB0005309282|         GREENCHOICE|Uw termijnnota me...|\n",
      "|2022-01-06 00:00:00|2022-01-06 00:00:00|  -44.0|NL38BUNQ2064666400|  NL75RABO0105845590|Trainmore Piet He...|01-01-2022 / 31-0...|\n",
      "|2022-01-11 00:00:00|2022-01-11 00:00:00| -250.0|NL38BUNQ2064666400|GB90ABBY090128056...|       Nomzamo Ncube|                null|\n",
      "|2022-01-13 00:00:00|2022-01-13 00:00:00|   -5.1|NL38BUNQ2064666400|  NL14ABNA0576850675|       NS Groep N.V.|R010210190054 003...|\n",
      "|2022-01-17 00:00:00|2022-01-17 00:00:00|  -2.77|NL38BUNQ2064666400|  NL16ABNA0246063858|               DITZO|7585397304 Premie...|\n",
      "|2022-01-19 00:00:00|2022-01-19 00:00:00|  -8.99|NL38BUNQ2064666400|  NL89BUNQ2025105584|                bunq|     invoice 7484677|\n",
      "|2022-01-23 00:00:00|2022-01-23 00:00:00| -70.91|NL38BUNQ2064666400|  NL59ABNA0626226163|DHL International...|21536643783 00300...|\n",
      "|2022-01-23 00:00:00|2022-01-23 00:00:00|   -5.7|NL38BUNQ2064666400|                null|     NS-Schiphol 212|NS-Schiphol 212 L...|\n",
      "|2022-01-24 00:00:00|2022-01-24 00:00:00| -14.51|NL38BUNQ2064666400|                null|   ALBERT HEIJN 2211|ALBERT HEIJN 2211...|\n",
      "|2022-01-24 00:00:00|2022-01-24 00:00:00|3679.74|NL38BUNQ2064666400|  NL22BNPA0227661567|     EMAKINA.NL B.V.|Salaris Januari 2022|\n",
      "|2022-01-26 00:00:00|2022-01-25 00:00:00|  -35.0|NL38BUNQ2064666400|  NL95COBA0637055934| T-MOBILE THUIS B.V.|T-Mobile Thuis NT...|\n",
      "|2022-01-26 00:00:00|2022-01-26 00:00:00|  -9.92|NL38BUNQ2064666400|                null|   ALBERT HEIJN 2211|ALBERT HEIJN 2211...|\n",
      "|2022-01-26 00:00:00|2022-01-26 00:00:00| -18.14|NL38BUNQ2064666400|  NL31ABNA0494688556|Thuisbezorgd.nl v...|MQCLTA 0030009371...|\n",
      "|2022-01-26 00:00:00|2022-01-27 00:00:00|-1207.0|NL38BUNQ2064666400|  NL95RABO0314621822|     BPD Woningfonds|Eef kamerbeekstra...|\n",
      "|2022-01-26 00:00:00|2022-01-26 00:00:00|  -34.9|NL38BUNQ2064666400|  NL17DEUT0265262879|Barnwoodweb by Mu...|557397999 1151000...|\n",
      "|2022-01-26 00:00:00|2022-01-26 00:00:00|  -10.9|NL38BUNQ2064666400|  NL35RABO0117713678|Paint-discount vi...|1678166106X3a89e ...|\n",
      "+-------------------+-------------------+-------+------------------+--------------------+--------------------+--------------------+\n",
      "only showing top 20 rows\n",
      "\n"
     ]
    }
   ],
   "source": [
    "read_files(one_drive_link_bunq)"
   ]
  },
  {
   "cell_type": "code",
   "execution_count": null,
   "id": "bb763a82-040c-4e2f-9336-307253643526",
   "metadata": {},
   "outputs": [],
   "source": []
  }
 ],
 "metadata": {
  "kernelspec": {
   "display_name": "Python 3 (ipykernel)",
   "language": "python",
   "name": "python3"
  },
  "language_info": {
   "codemirror_mode": {
    "name": "ipython",
    "version": 3
   },
   "file_extension": ".py",
   "mimetype": "text/x-python",
   "name": "python",
   "nbconvert_exporter": "python",
   "pygments_lexer": "ipython3",
   "version": "3.10.6"
  }
 },
 "nbformat": 4,
 "nbformat_minor": 5
}
