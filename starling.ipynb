{
 "cells": [
  {
   "cell_type": "markdown",
   "id": "1b2f1889-a5d8-4af1-9d29-c1666c93d8c2",
   "metadata": {},
   "source": [
    "#INGEST STATEMENT"
   ]
  },
  {
   "cell_type": "code",
   "execution_count": 1,
   "id": "82b6f9db-0ec2-48c0-941d-3ee221c06d61",
   "metadata": {},
   "outputs": [],
   "source": [
    "import import_ipynb"
   ]
  },
  {
   "cell_type": "code",
   "execution_count": 2,
   "id": "7ee00dc9-f5c6-4c1e-a970-35c001c05e65",
   "metadata": {},
   "outputs": [
    {
     "name": "stdout",
     "output_type": "stream",
     "text": [
      "importing Jupyter notebook from C:\\Users\\nomnc\\OneDrive\\Fin_dump\\fin_mgmt\\modules\\ingest_statement.ipynb\n"
     ]
    }
   ],
   "source": [
    "from modules.ingest_statement import *"
   ]
  },
  {
   "cell_type": "code",
   "execution_count": 3,
   "id": "dbded8a8-d961-4a44-917c-8ecb22b2d44f",
   "metadata": {},
   "outputs": [],
   "source": [
    "X=create_onedrive_directdownload('https://1drv.ms/u/s!AiVkYGtq2xelg8Qxc1789sNVsxdGXw?e=cuKi3I')"
   ]
  },
  {
   "cell_type": "markdown",
   "id": "79cd2efc-d2d1-4a19-8fc2-301bf89a66a8",
   "metadata": {},
   "source": [
    "## Read Starling File"
   ]
  },
  {
   "cell_type": "code",
   "execution_count": 4,
   "id": "4078f0f1-5fe4-4d3b-a346-2e1f2b181927",
   "metadata": {},
   "outputs": [],
   "source": [
    "import pandas as pd\n",
    "pdf = pd.read_csv(X)"
   ]
  },
  {
   "cell_type": "code",
   "execution_count": 5,
   "id": "8ddfaee2-6896-425f-84ea-3e19cc264665",
   "metadata": {
    "tags": []
   },
   "outputs": [],
   "source": [
    "star_tbl=spark.createDataFrame(pdf)"
   ]
  },
  {
   "cell_type": "markdown",
   "id": "cfa4fe2d-7183-4123-9ac5-37b77b3b2928",
   "metadata": {
    "tags": []
   },
   "source": [
    "## Convert columns to lower case"
   ]
  },
  {
   "cell_type": "code",
   "execution_count": 7,
   "id": "c2b3b8b9-84b5-4cc2-9273-dfe6c4f114b2",
   "metadata": {},
   "outputs": [],
   "source": [
    "for col in star_tbl.columns:\n",
    "  star_tbl = star_tbl.withColumnRenamed(col, col.lower())"
   ]
  },
  {
   "cell_type": "markdown",
   "id": "1ffce364-8138-463c-898a-1b515a50b006",
   "metadata": {},
   "source": [
    "## Rename 'amount,balance,counter party,reference and spending category' attributes"
   ]
  },
  {
   "cell_type": "code",
   "execution_count": 8,
   "id": "5742bf90-84ed-430b-90e1-72930cb70ff2",
   "metadata": {},
   "outputs": [],
   "source": [
    "star_tbl=star_tbl.withColumnRenamed('amount (gbp)','amount')"
   ]
  },
  {
   "cell_type": "code",
   "execution_count": 9,
   "id": "a58433e6-e53a-4a0d-9b8e-d44dca279c0f",
   "metadata": {},
   "outputs": [],
   "source": [
    "star_tbl=star_tbl.withColumnRenamed('balance (gbp)','balance')"
   ]
  },
  {
   "cell_type": "code",
   "execution_count": 10,
   "id": "71282649-1e88-43b7-8790-9568a08884a2",
   "metadata": {},
   "outputs": [],
   "source": [
    "star_tbl=star_tbl.withColumnRenamed('spending category','spending_category')"
   ]
  },
  {
   "cell_type": "code",
   "execution_count": 11,
   "id": "a456a91a-262b-402f-8438-937f554ff4a0",
   "metadata": {},
   "outputs": [],
   "source": [
    "star_tbl=star_tbl.withColumnRenamed('counter party','merchant')"
   ]
  },
  {
   "cell_type": "code",
   "execution_count": 12,
   "id": "a171bd63-2b54-4da8-87d4-d6634eca1147",
   "metadata": {},
   "outputs": [],
   "source": [
    "star_tbl=star_tbl.withColumnRenamed('reference','description')"
   ]
  },
  {
   "cell_type": "markdown",
   "id": "3b1c0b85-5fb4-4e68-8daf-cd4371e56cd8",
   "metadata": {},
   "source": [
    "## Drop 'notes and balance' attributes"
   ]
  },
  {
   "cell_type": "code",
   "execution_count": 13,
   "id": "9e114a2a-d82b-4d89-8d2b-8136b5eb1f6c",
   "metadata": {},
   "outputs": [],
   "source": [
    "star_tbl=star_tbl.drop('notes')"
   ]
  },
  {
   "cell_type": "code",
   "execution_count": 14,
   "id": "5484aa02-b25e-4f8d-8ac7-6c2b194a93a6",
   "metadata": {},
   "outputs": [],
   "source": [
    "star_tbl=star_tbl.drop('balance')"
   ]
  },
  {
   "cell_type": "code",
   "execution_count": 15,
   "id": "6ae27da5-70b7-4d00-a60a-a1c5e87ecfa2",
   "metadata": {},
   "outputs": [
    {
     "name": "stdout",
     "output_type": "stream",
     "text": [
      "+----------+-------------------+--------------------+--------------------+-------+------------------+\n",
      "|      date|           merchant|         description|                type| amount| spending_category|\n",
      "+----------+-------------------+--------------------+--------------------+-------+------------------+\n",
      "|06/06/2022|      Nomzamo Ncube|            transfer|      FASTER PAYMENT|    5.0|            INCOME|\n",
      "|07/06/2022|              Vimeo|VMO*VIMEO.COM    ...|      ONLINE PAYMENT|  -3.56|          SHOPPING|\n",
      "|19/06/2022|      Nomzamo Ncube|            transfer|      FASTER PAYMENT|    5.0|            INCOME|\n",
      "|20/06/2022|              Vimeo|VMO*VIMEO.COM    ...|      ONLINE PAYMENT|  -3.64|          SHOPPING|\n",
      "|04/07/2022|             iTunes|APPLE.COM/BILL   ...|      ONLINE PAYMENT|  -0.79|     ENTERTAINMENT|\n",
      "|05/07/2022|          HMRC PAYE|   TSG88093689685438|       DIRECT CREDIT| 1246.6|          PAYMENTS|\n",
      "|05/07/2022|             iTunes|APPLE.COM/BILL   ...|      ONLINE PAYMENT|  -2.99|     ENTERTAINMENT|\n",
      "|06/07/2022|       Amzn Mktp Us|AMZN Mktp US     ...|      ONLINE PAYMENT|-169.95|          SHOPPING|\n",
      "|11/07/2022|       Nomzamo-BUNQ|       from starling|INTERNATIONAL PAY...| -800.0|          PAYMENTS|\n",
      "|18/07/2022|Sklep Firmowy Nr 99|oralb            ...|   CARD SUBSCRIPTION| -76.63|         GROCERIES|\n",
      "|21/07/2022|   Google Play Apps|GOOGLE *Google St...|      ONLINE PAYMENT|  -1.59|           GENERAL|\n",
      "|21/07/2022|            easyJet|EASYJET          ...|      ONLINE PAYMENT|  -67.3|          HOLIDAYS|\n",
      "|24/07/2022|              Bunq |bunq B.V         ...|      ONLINE PAYMENT| -85.31|BILLS_AND_SERVICES|\n",
      "|28/07/2022|              Vimeo|VMO*VIMEO.COM    ...|      ONLINE PAYMENT|   -3.7|          SHOPPING|\n",
      "+----------+-------------------+--------------------+--------------------+-------+------------------+\n",
      "\n"
     ]
    }
   ],
   "source": [
    "star_tbl.show()"
   ]
  },
  {
   "cell_type": "code",
   "execution_count": 16,
   "id": "4102c6b2-dd99-430a-9955-b5b2d3a83f90",
   "metadata": {},
   "outputs": [],
   "source": [
    "from pyspark.sql.functions import when,lit"
   ]
  },
  {
   "cell_type": "markdown",
   "id": "46d71a64-63c6-4112-a0f2-40e93d513d58",
   "metadata": {},
   "source": [
    "## Create 'money_in' attribute"
   ]
  },
  {
   "cell_type": "code",
   "execution_count": 17,
   "id": "b2bfdb0e-00f2-434a-8817-c15fa2972a9d",
   "metadata": {},
   "outputs": [],
   "source": [
    "star_tbl=star_tbl.withColumn(\"money_in\", \\\n",
    "              when((star_tbl.amount > 0),lit(star_tbl.amount)) \\\n",
    "              .otherwise(lit(''))\\\n",
    "             )"
   ]
  },
  {
   "cell_type": "code",
   "execution_count": 18,
   "id": "416a6e3b-c9d1-4b38-8e6f-16e74c94e72a",
   "metadata": {
    "tags": []
   },
   "outputs": [],
   "source": [
    "#star_tbl.select('date','amount','conversionrate','money_in').filter(\"conversionrate=='0'\").show()"
   ]
  },
  {
   "cell_type": "markdown",
   "id": "93956922-0a6d-4709-928a-7a3b8afdc0b4",
   "metadata": {},
   "source": [
    "## Create 'money_out' attribute"
   ]
  },
  {
   "cell_type": "code",
   "execution_count": 34,
   "id": "369feca0-d0b8-4e44-811c-ed4cde169c37",
   "metadata": {},
   "outputs": [
    {
     "ename": "AttributeError",
     "evalue": "'DataFrame' object has no attribute 'amount'",
     "output_type": "error",
     "traceback": [
      "\u001b[1;31m---------------------------------------------------------------------------\u001b[0m",
      "\u001b[1;31mAttributeError\u001b[0m                            Traceback (most recent call last)",
      "Input \u001b[1;32mIn [34]\u001b[0m, in \u001b[0;36m<cell line: 1>\u001b[1;34m()\u001b[0m\n\u001b[0;32m      1\u001b[0m star_tbl\u001b[38;5;241m=\u001b[39mstar_tbl\u001b[38;5;241m.\u001b[39mwithColumn(\u001b[38;5;124m\"\u001b[39m\u001b[38;5;124mmoney_out\u001b[39m\u001b[38;5;124m\"\u001b[39m, \\\n\u001b[1;32m----> 2\u001b[0m               when((\u001b[43mstar_tbl\u001b[49m\u001b[38;5;241;43m.\u001b[39;49m\u001b[43mamount\u001b[49m \u001b[38;5;241m<\u001b[39m \u001b[38;5;241m0\u001b[39m),lit(star_tbl\u001b[38;5;241m.\u001b[39mamount\u001b[38;5;241m*\u001b[39m\u001b[38;5;241m-\u001b[39m\u001b[38;5;241m1\u001b[39m)) \\\n\u001b[0;32m      3\u001b[0m               \u001b[38;5;241m.\u001b[39motherwise(lit(\u001b[38;5;124m'\u001b[39m\u001b[38;5;124m'\u001b[39m))\\\n\u001b[0;32m      4\u001b[0m              )\n",
      "File \u001b[1;32mC:\\Spark\\spark-3.3.0-bin-hadoop3\\python\\pyspark\\sql\\dataframe.py:1988\u001b[0m, in \u001b[0;36mDataFrame.__getattr__\u001b[1;34m(self, name)\u001b[0m\n\u001b[0;32m   1978\u001b[0m \u001b[38;5;124;03m\"\"\"Returns the :class:`Column` denoted by ``name``.\u001b[39;00m\n\u001b[0;32m   1979\u001b[0m \n\u001b[0;32m   1980\u001b[0m \u001b[38;5;124;03m.. versionadded:: 1.3.0\u001b[39;00m\n\u001b[1;32m   (...)\u001b[0m\n\u001b[0;32m   1985\u001b[0m \u001b[38;5;124;03m[Row(age=2), Row(age=5)]\u001b[39;00m\n\u001b[0;32m   1986\u001b[0m \u001b[38;5;124;03m\"\"\"\u001b[39;00m\n\u001b[0;32m   1987\u001b[0m \u001b[38;5;28;01mif\u001b[39;00m name \u001b[38;5;129;01mnot\u001b[39;00m \u001b[38;5;129;01min\u001b[39;00m \u001b[38;5;28mself\u001b[39m\u001b[38;5;241m.\u001b[39mcolumns:\n\u001b[1;32m-> 1988\u001b[0m     \u001b[38;5;28;01mraise\u001b[39;00m \u001b[38;5;167;01mAttributeError\u001b[39;00m(\n\u001b[0;32m   1989\u001b[0m         \u001b[38;5;124m\"\u001b[39m\u001b[38;5;124m'\u001b[39m\u001b[38;5;132;01m%s\u001b[39;00m\u001b[38;5;124m'\u001b[39m\u001b[38;5;124m object has no attribute \u001b[39m\u001b[38;5;124m'\u001b[39m\u001b[38;5;132;01m%s\u001b[39;00m\u001b[38;5;124m'\u001b[39m\u001b[38;5;124m\"\u001b[39m \u001b[38;5;241m%\u001b[39m (\u001b[38;5;28mself\u001b[39m\u001b[38;5;241m.\u001b[39m\u001b[38;5;18m__class__\u001b[39m\u001b[38;5;241m.\u001b[39m\u001b[38;5;18m__name__\u001b[39m, name)\n\u001b[0;32m   1990\u001b[0m     )\n\u001b[0;32m   1991\u001b[0m jc \u001b[38;5;241m=\u001b[39m \u001b[38;5;28mself\u001b[39m\u001b[38;5;241m.\u001b[39m_jdf\u001b[38;5;241m.\u001b[39mapply(name)\n\u001b[0;32m   1992\u001b[0m \u001b[38;5;28;01mreturn\u001b[39;00m Column(jc)\n",
      "\u001b[1;31mAttributeError\u001b[0m: 'DataFrame' object has no attribute 'amount'"
     ]
    }
   ],
   "source": [
    "star_tbl=star_tbl.withColumn(\"money_out\", \\\n",
    "              when((star_tbl.amount < 0),lit(star_tbl.amount*-1)) \\\n",
    "              .otherwise(lit(''))\\\n",
    "             )"
   ]
  },
  {
   "cell_type": "code",
   "execution_count": 21,
   "id": "cddc12a6-9331-48cd-a771-51bedfcbe31e",
   "metadata": {
    "tags": []
   },
   "outputs": [
    {
     "name": "stdout",
     "output_type": "stream",
     "text": [
      "root\n",
      " |-- date: string (nullable = true)\n",
      " |-- merchant: string (nullable = true)\n",
      " |-- description: string (nullable = true)\n",
      " |-- type: string (nullable = true)\n",
      " |-- amount: double (nullable = true)\n",
      " |-- spending_category: string (nullable = true)\n",
      " |-- money_in: string (nullable = true)\n",
      " |-- money_out: string (nullable = true)\n",
      "\n"
     ]
    }
   ],
   "source": [
    "star_tbl.printSchema()"
   ]
  },
  {
   "cell_type": "markdown",
   "id": "57953553-d2a9-4d77-96b6-1107df9fda01",
   "metadata": {},
   "source": [
    "## Drop 'amount' attribute"
   ]
  },
  {
   "cell_type": "code",
   "execution_count": 22,
   "id": "86ea0c8c-d57b-476f-b3de-4e30cb7f2af7",
   "metadata": {},
   "outputs": [],
   "source": [
    "star_tbl=star_tbl.drop('amount')"
   ]
  },
  {
   "cell_type": "code",
   "execution_count": null,
   "id": "f9452f7f-3ca2-4c33-b9e4-187c84c1c8e9",
   "metadata": {},
   "outputs": [],
   "source": []
  },
  {
   "cell_type": "code",
   "execution_count": 23,
   "id": "bff06105-4b68-4a10-85a7-7209289dd241",
   "metadata": {},
   "outputs": [
    {
     "name": "stdout",
     "output_type": "stream",
     "text": [
      "root\n",
      " |-- date: string (nullable = true)\n",
      " |-- merchant: string (nullable = true)\n",
      " |-- description: string (nullable = true)\n",
      " |-- type: string (nullable = true)\n",
      " |-- spending_category: string (nullable = true)\n",
      " |-- money_in: string (nullable = true)\n",
      " |-- money_out: string (nullable = true)\n",
      "\n"
     ]
    }
   ],
   "source": [
    "star_tbl.printSchema()"
   ]
  },
  {
   "cell_type": "code",
   "execution_count": 24,
   "id": "92fee8c7-cebd-421d-8dd2-1a8b7da16070",
   "metadata": {},
   "outputs": [],
   "source": [
    "from pyspark.sql import functions as F"
   ]
  },
  {
   "cell_type": "code",
   "execution_count": 27,
   "id": "d0f22cdc-bfef-4350-b130-db31efb92cec",
   "metadata": {},
   "outputs": [],
   "source": [
    "star_tbl=star_tbl.withColumn('date', F.col('date').cast(\"timestamp\"))"
   ]
  },
  {
   "cell_type": "code",
   "execution_count": 28,
   "id": "3b89e38c-3651-4179-befd-c672488e423f",
   "metadata": {},
   "outputs": [
    {
     "name": "stdout",
     "output_type": "stream",
     "text": [
      "+----+-------------------+--------------------+--------------------+------------------+--------+---------+\n",
      "|date|           merchant|         description|                type| spending_category|money_in|money_out|\n",
      "+----+-------------------+--------------------+--------------------+------------------+--------+---------+\n",
      "|null|      Nomzamo Ncube|            transfer|      FASTER PAYMENT|            INCOME|     5.0|         |\n",
      "|null|              Vimeo|VMO*VIMEO.COM    ...|      ONLINE PAYMENT|          SHOPPING|        |    -3.56|\n",
      "|null|      Nomzamo Ncube|            transfer|      FASTER PAYMENT|            INCOME|     5.0|         |\n",
      "|null|              Vimeo|VMO*VIMEO.COM    ...|      ONLINE PAYMENT|          SHOPPING|        |    -3.64|\n",
      "|null|             iTunes|APPLE.COM/BILL   ...|      ONLINE PAYMENT|     ENTERTAINMENT|        |    -0.79|\n",
      "|null|          HMRC PAYE|   TSG88093689685438|       DIRECT CREDIT|          PAYMENTS|  1246.6|         |\n",
      "|null|             iTunes|APPLE.COM/BILL   ...|      ONLINE PAYMENT|     ENTERTAINMENT|        |    -2.99|\n",
      "|null|       Amzn Mktp Us|AMZN Mktp US     ...|      ONLINE PAYMENT|          SHOPPING|        |  -169.95|\n",
      "|null|       Nomzamo-BUNQ|       from starling|INTERNATIONAL PAY...|          PAYMENTS|        |   -800.0|\n",
      "|null|Sklep Firmowy Nr 99|oralb            ...|   CARD SUBSCRIPTION|         GROCERIES|        |   -76.63|\n",
      "|null|   Google Play Apps|GOOGLE *Google St...|      ONLINE PAYMENT|           GENERAL|        |    -1.59|\n",
      "|null|            easyJet|EASYJET          ...|      ONLINE PAYMENT|          HOLIDAYS|        |    -67.3|\n",
      "|null|              Bunq |bunq B.V         ...|      ONLINE PAYMENT|BILLS_AND_SERVICES|        |   -85.31|\n",
      "|null|              Vimeo|VMO*VIMEO.COM    ...|      ONLINE PAYMENT|          SHOPPING|        |     -3.7|\n",
      "+----+-------------------+--------------------+--------------------+------------------+--------+---------+\n",
      "\n"
     ]
    }
   ],
   "source": [
    "star_tbl.show()"
   ]
  },
  {
   "cell_type": "markdown",
   "id": "1ffa1f07-6c71-42fb-bd72-efe688e97203",
   "metadata": {},
   "source": [
    "## add buffer attributes to prepare for union"
   ]
  },
  {
   "cell_type": "code",
   "execution_count": 30,
   "id": "43c669c2-6129-4ed1-98fc-8f889dc0c305",
   "metadata": {},
   "outputs": [],
   "source": [
    "star_tbl=star_tbl.select(\n",
    "\"date\",\n",
    "\"merchant\",\n",
    "\"description\",\n",
    "\"money_out\",\n",
    "\"money_in\",\n",
    "lit('starling').alias(\"account\"),\n",
    "lit('UK').alias(\"account_country\"),\n",
    "\"spending_category\",\n",
    "\"type\",\n",
    "lit('').alias(\"original_currency_amount\"),\n",
    "lit('GBP').alias(\"currency\"),\n",
    "lit('').alias(\"conversion_rate\"),\n",
    "lit('').alias(\"merchant_town\"),\n",
    "lit('').alias(\"merchant_postcode\"),\n",
    "lit('').alias(\"merchant_country\")\n",
    ")"
   ]
  },
  {
   "cell_type": "code",
   "execution_count": 31,
   "id": "ab22f50e-6150-487a-a52d-928f4a1aff1d",
   "metadata": {
    "tags": []
   },
   "outputs": [
    {
     "name": "stdout",
     "output_type": "stream",
     "text": [
      "+----+-------------------+--------------------+---------+--------+--------+---------------+------------------+--------------------+------------------------+--------+---------------+-------------+-----------------+----------------+\n",
      "|date|           merchant|         description|money_out|money_in| account|account_country| spending_category|                type|original_currency_amount|currency|conversion_rate|merchant_town|merchant_postcode|merchant_country|\n",
      "+----+-------------------+--------------------+---------+--------+--------+---------------+------------------+--------------------+------------------------+--------+---------------+-------------+-----------------+----------------+\n",
      "|null|      Nomzamo Ncube|            transfer|         |     5.0|starling|             UK|            INCOME|      FASTER PAYMENT|                        |     GBP|               |             |                 |                |\n",
      "|null|              Vimeo|VMO*VIMEO.COM    ...|    -3.56|        |starling|             UK|          SHOPPING|      ONLINE PAYMENT|                        |     GBP|               |             |                 |                |\n",
      "|null|      Nomzamo Ncube|            transfer|         |     5.0|starling|             UK|            INCOME|      FASTER PAYMENT|                        |     GBP|               |             |                 |                |\n",
      "|null|              Vimeo|VMO*VIMEO.COM    ...|    -3.64|        |starling|             UK|          SHOPPING|      ONLINE PAYMENT|                        |     GBP|               |             |                 |                |\n",
      "|null|             iTunes|APPLE.COM/BILL   ...|    -0.79|        |starling|             UK|     ENTERTAINMENT|      ONLINE PAYMENT|                        |     GBP|               |             |                 |                |\n",
      "|null|          HMRC PAYE|   TSG88093689685438|         |  1246.6|starling|             UK|          PAYMENTS|       DIRECT CREDIT|                        |     GBP|               |             |                 |                |\n",
      "|null|             iTunes|APPLE.COM/BILL   ...|    -2.99|        |starling|             UK|     ENTERTAINMENT|      ONLINE PAYMENT|                        |     GBP|               |             |                 |                |\n",
      "|null|       Amzn Mktp Us|AMZN Mktp US     ...|  -169.95|        |starling|             UK|          SHOPPING|      ONLINE PAYMENT|                        |     GBP|               |             |                 |                |\n",
      "|null|       Nomzamo-BUNQ|       from starling|   -800.0|        |starling|             UK|          PAYMENTS|INTERNATIONAL PAY...|                        |     GBP|               |             |                 |                |\n",
      "|null|Sklep Firmowy Nr 99|oralb            ...|   -76.63|        |starling|             UK|         GROCERIES|   CARD SUBSCRIPTION|                        |     GBP|               |             |                 |                |\n",
      "|null|   Google Play Apps|GOOGLE *Google St...|    -1.59|        |starling|             UK|           GENERAL|      ONLINE PAYMENT|                        |     GBP|               |             |                 |                |\n",
      "|null|            easyJet|EASYJET          ...|    -67.3|        |starling|             UK|          HOLIDAYS|      ONLINE PAYMENT|                        |     GBP|               |             |                 |                |\n",
      "|null|              Bunq |bunq B.V         ...|   -85.31|        |starling|             UK|BILLS_AND_SERVICES|      ONLINE PAYMENT|                        |     GBP|               |             |                 |                |\n",
      "|null|              Vimeo|VMO*VIMEO.COM    ...|     -3.7|        |starling|             UK|          SHOPPING|      ONLINE PAYMENT|                        |     GBP|               |             |                 |                |\n",
      "+----+-------------------+--------------------+---------+--------+--------+---------------+------------------+--------------------+------------------------+--------+---------------+-------------+-----------------+----------------+\n",
      "\n"
     ]
    }
   ],
   "source": [
    "star_tbl.show()"
   ]
  },
  {
   "cell_type": "markdown",
   "id": "7bf0b968-51b3-4b17-8f22-168ec35271e1",
   "metadata": {},
   "source": [
    "## Correct Data types to prepare for Union"
   ]
  },
  {
   "cell_type": "code",
   "execution_count": 32,
   "id": "87dfba99-7791-4031-aac0-907e3af09cda",
   "metadata": {},
   "outputs": [
    {
     "name": "stdout",
     "output_type": "stream",
     "text": [
      "root\n",
      " |-- date: timestamp (nullable = true)\n",
      " |-- merchant: string (nullable = true)\n",
      " |-- description: string (nullable = true)\n",
      " |-- money_out: string (nullable = true)\n",
      " |-- money_in: string (nullable = true)\n",
      " |-- account: string (nullable = false)\n",
      " |-- account_country: string (nullable = false)\n",
      " |-- spending_category: string (nullable = true)\n",
      " |-- type: string (nullable = true)\n",
      " |-- original_currency_amount: string (nullable = false)\n",
      " |-- currency: string (nullable = false)\n",
      " |-- conversion_rate: string (nullable = false)\n",
      " |-- merchant_town: string (nullable = false)\n",
      " |-- merchant_postcode: string (nullable = false)\n",
      " |-- merchant_country: string (nullable = false)\n",
      "\n"
     ]
    }
   ],
   "source": [
    "star_tbl.printSchema()"
   ]
  },
  {
   "cell_type": "code",
   "execution_count": null,
   "id": "0d94f4b5-8eaa-462b-bebe-4856461ba924",
   "metadata": {},
   "outputs": [],
   "source": []
  }
 ],
 "metadata": {
  "kernelspec": {
   "display_name": "Python 3 (ipykernel)",
   "language": "python",
   "name": "python3"
  },
  "language_info": {
   "codemirror_mode": {
    "name": "ipython",
    "version": 3
   },
   "file_extension": ".py",
   "mimetype": "text/x-python",
   "name": "python",
   "nbconvert_exporter": "python",
   "pygments_lexer": "ipython3",
   "version": "3.10.6"
  }
 },
 "nbformat": 4,
 "nbformat_minor": 5
}
