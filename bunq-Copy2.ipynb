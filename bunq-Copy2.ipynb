{
 "cells": [
  {
   "cell_type": "markdown",
   "id": "1b2f1889-a5d8-4af1-9d29-c1666c93d8c2",
   "metadata": {},
   "source": [
    "#INGEST STATEMENT"
   ]
  },
  {
   "cell_type": "code",
   "execution_count": 1,
   "id": "db036d60-ec61-4fc0-bebf-2bfca348d10a",
   "metadata": {},
   "outputs": [],
   "source": [
    "%run modules/ingest_statement.ipynb "
   ]
  },
  {
   "cell_type": "code",
   "execution_count": 2,
   "id": "82b6f9db-0ec2-48c0-941d-3ee221c06d61",
   "metadata": {},
   "outputs": [],
   "source": [
    "one_drive_link_santander=create_onedrive_directdownload('https://1drv.ms/x/s!AiVkYGtq2xelg8Q2juJgJ9xbPnFcWA?e=1PqwVY')"
   ]
  },
  {
   "cell_type": "code",
   "execution_count": 4,
   "id": "fc605ede-fe83-4112-aec8-873ff86da522",
   "metadata": {},
   "outputs": [
    {
     "name": "stdout",
     "output_type": "stream",
     "text": [
      "+----+-------------------+--------------------+--------+---------+--------+\n",
      "| _c0|               Date|         Description|Money in|Money Out| Balance|\n",
      "+----+-------------------+--------------------+--------+---------+--------+\n",
      "|null|2022-08-22 00:00:00|BILL PAYMENT VIA ...|    null|     90.0|-1155.81|\n",
      "|null|2022-08-20 00:00:00|BILL PAYMENT VIA ...|    null|     50.0|-1065.81|\n",
      "|null|2022-08-20 00:00:00|FASTER PAYMENTS R...|    50.0|     null|-1015.81|\n",
      "|null|2022-08-19 00:00:00|BILL PAYMENT VIA ...|    null|     50.0|-1065.81|\n",
      "|null|2022-08-13 00:00:00|BILL PAYMENT VIA ...|    null|     85.0|-1015.81|\n",
      "|null|2022-08-10 00:00:00|ARRANGED OVERDRAF...|    null|    21.05| -930.81|\n",
      "|null|2022-08-02 00:00:00|DIRECT DEBIT PAYM...|    null|   136.48| -909.76|\n",
      "|null|2022-07-12 00:00:00|ARRANGED OVERDRAF...|    null|    19.96| -773.28|\n",
      "|null|2022-07-04 00:00:00|FASTER PAYMENTS R...|   74.37|     null| -753.32|\n",
      "|null|2022-07-04 00:00:00|BILL PAYMENT VIA ...|    null|   702.31| -827.69|\n",
      "|null|2022-07-04 00:00:00|DIRECT DEBIT PAYM...|    null|   140.63| -125.38|\n",
      "|null|2022-07-01 00:00:00|BILL PAYMENT VIA ...|    null|    100.0|   15.25|\n",
      "|null|2022-06-27 00:00:00|TRANSFER FROM N. ...| 1666.77|     null|  115.25|\n",
      "|null|2022-06-26 00:00:00|BILL PAYMENT VIA ...|    null|    400.0|-1551.52|\n",
      "|null|2022-06-19 00:00:00|BILL PAYMENT VIA ...|    null|      5.0|-1151.52|\n",
      "|null|2022-06-13 00:00:00|BILL PAYMENT VIA ...|    null|    100.0|-1146.52|\n",
      "|null|2022-06-10 00:00:00|ARRANGED OVERDRAF...|    null|     0.14|-1046.52|\n",
      "|null|2022-06-07 00:00:00|BILL PAYMENT VIA ...|    null|      5.0|-1046.38|\n",
      "|null|2022-06-06 00:00:00|DIRECT DEBIT PAYM...|    null|    117.4|-1041.38|\n",
      "|null|2022-05-31 00:00:00|CARD PAYMENT TO B...|    null|     9.41| -923.98|\n",
      "+----+-------------------+--------------------+--------+---------+--------+\n",
      "only showing top 20 rows\n",
      "\n"
     ]
    }
   ],
   "source": [
    "read_files(one_drive_link_santander)"
   ]
  },
  {
   "cell_type": "code",
   "execution_count": null,
   "id": "bb763a82-040c-4e2f-9336-307253643526",
   "metadata": {},
   "outputs": [],
   "source": []
  }
 ],
 "metadata": {
  "kernelspec": {
   "display_name": "Python 3 (ipykernel)",
   "language": "python",
   "name": "python3"
  },
  "language_info": {
   "codemirror_mode": {
    "name": "ipython",
    "version": 3
   },
   "file_extension": ".py",
   "mimetype": "text/x-python",
   "name": "python",
   "nbconvert_exporter": "python",
   "pygments_lexer": "ipython3",
   "version": "3.10.6"
  }
 },
 "nbformat": 4,
 "nbformat_minor": 5
}
