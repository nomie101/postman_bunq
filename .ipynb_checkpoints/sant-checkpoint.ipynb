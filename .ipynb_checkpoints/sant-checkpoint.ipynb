{
 "cells": [
  {
   "cell_type": "markdown",
   "id": "1b2f1889-a5d8-4af1-9d29-c1666c93d8c2",
   "metadata": {},
   "source": [
    "#INGEST STATEMENT"
   ]
  },
  {
   "cell_type": "code",
   "execution_count": 1,
   "id": "82b6f9db-0ec2-48c0-941d-3ee221c06d61",
   "metadata": {},
   "outputs": [],
   "source": [
    "import import_ipynb"
   ]
  },
  {
   "cell_type": "code",
   "execution_count": 2,
   "id": "7ee00dc9-f5c6-4c1e-a970-35c001c05e65",
   "metadata": {},
   "outputs": [
    {
     "name": "stdout",
     "output_type": "stream",
     "text": [
      "importing Jupyter notebook from C:\\Users\\nomnc\\OneDrive\\.ipynb_checkpoints\\modules\\ingest_statement.ipynb\n"
     ]
    }
   ],
   "source": [
    "from modules.ingest_statement import *"
   ]
  },
  {
   "cell_type": "code",
   "execution_count": 3,
   "id": "dbded8a8-d961-4a44-917c-8ecb22b2d44f",
   "metadata": {},
   "outputs": [],
   "source": [
    "X=create_onedrive_directdownload('https://1drv.ms/x/s!AiVkYGtq2xelg8Qri9XuUzhAcHgLng?e=oklEp6')"
   ]
  },
  {
   "cell_type": "code",
   "execution_count": 4,
   "id": "7e7ddda2-593d-46ea-aa7d-132d11a8c1f9",
   "metadata": {
    "tags": []
   },
   "outputs": [
    {
     "ename": "TypeError",
     "evalue": "read_files() takes 0 positional arguments but 1 was given",
     "output_type": "error",
     "traceback": [
      "\u001b[1;31m---------------------------------------------------------------------------\u001b[0m",
      "\u001b[1;31mTypeError\u001b[0m                                 Traceback (most recent call last)",
      "Input \u001b[1;32mIn [4]\u001b[0m, in \u001b[0;36m<cell line: 1>\u001b[1;34m()\u001b[0m\n\u001b[1;32m----> 1\u001b[0m cap_tbl\u001b[38;5;241m=\u001b[39m\u001b[43mread_files\u001b[49m\u001b[43m(\u001b[49m\u001b[43mX\u001b[49m\u001b[43m)\u001b[49m\n",
      "\u001b[1;31mTypeError\u001b[0m: read_files() takes 0 positional arguments but 1 was given"
     ]
    }
   ],
   "source": [
    "cap_tbl=read_files(X)"
   ]
  },
  {
   "cell_type": "code",
   "execution_count": null,
   "id": "2f0246ec-c21c-4f22-94f1-1b4145e198c1",
   "metadata": {},
   "outputs": [],
   "source": [
    "cap_tbl.select('*').where(cap_tbl.amount > 0 ).show()"
   ]
  },
  {
   "cell_type": "code",
   "execution_count": null,
   "id": "4199157a-878b-4d27-a731-04135fc363a7",
   "metadata": {},
   "outputs": [],
   "source": []
  }
 ],
 "metadata": {
  "kernelspec": {
   "display_name": "Python 3 (ipykernel)",
   "language": "python",
   "name": "python3"
  },
  "language_info": {
   "codemirror_mode": {
    "name": "ipython",
    "version": 3
   },
   "file_extension": ".py",
   "mimetype": "text/x-python",
   "name": "python",
   "nbconvert_exporter": "python",
   "pygments_lexer": "ipython3",
   "version": "3.10.6"
  }
 },
 "nbformat": 4,
 "nbformat_minor": 5
}
