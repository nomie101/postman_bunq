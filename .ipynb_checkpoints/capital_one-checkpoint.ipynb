{
 "cells": [
  {
   "cell_type": "markdown",
   "id": "1b2f1889-a5d8-4af1-9d29-c1666c93d8c2",
   "metadata": {},
   "source": [
    "#INGEST STATEMENT"
   ]
  },
  {
   "cell_type": "code",
   "execution_count": 1,
   "id": "82b6f9db-0ec2-48c0-941d-3ee221c06d61",
   "metadata": {},
   "outputs": [],
   "source": [
    "import import_ipynb"
   ]
  },
  {
   "cell_type": "code",
   "execution_count": 2,
   "id": "7ee00dc9-f5c6-4c1e-a970-35c001c05e65",
   "metadata": {},
   "outputs": [
    {
     "name": "stdout",
     "output_type": "stream",
     "text": [
      "importing Jupyter notebook from C:\\Users\\nomnc\\OneDrive\\.ipynb_checkpoints\\modules\\ingest_statement.ipynb\n"
     ]
    }
   ],
   "source": [
    "from modules.ingest_statement import *"
   ]
  },
  {
   "cell_type": "code",
   "execution_count": 3,
   "id": "dbded8a8-d961-4a44-917c-8ecb22b2d44f",
   "metadata": {},
   "outputs": [],
   "source": [
    "X=create_onedrive_directdownload('https://1drv.ms/x/s!AiVkYGtq2xelg8Qri9XuUzhAcHgLng?e=oklEp6')"
   ]
  },
  {
   "cell_type": "markdown",
   "id": "79cd2efc-d2d1-4a19-8fc2-301bf89a66a8",
   "metadata": {},
   "source": [
    "## Read CapitalOne File"
   ]
  },
  {
   "cell_type": "code",
   "execution_count": 4,
   "id": "8ddfaee2-6896-425f-84ea-3e19cc264665",
   "metadata": {
    "tags": []
   },
   "outputs": [],
   "source": [
    "cap_tbl=read_file(X)"
   ]
  },
  {
   "cell_type": "markdown",
   "id": "cfa4fe2d-7183-4123-9ac5-37b77b3b2928",
   "metadata": {
    "tags": []
   },
   "source": [
    "## Convert columns to lower case"
   ]
  },
  {
   "cell_type": "code",
   "execution_count": 5,
   "id": "2f0246ec-c21c-4f22-94f1-1b4145e198c1",
   "metadata": {},
   "outputs": [],
   "source": [
    "for col in cap_tbl.columns:\n",
    "    cap_tbl = cap_tbl.withColumnRenamed(col, col.lower())"
   ]
  },
  {
   "cell_type": "markdown",
   "id": "1ffce364-8138-463c-898a-1b515a50b006",
   "metadata": {},
   "source": [
    "## Drop 'posteddate,recurringpayment and debitcreditcode' attributes"
   ]
  },
  {
   "cell_type": "code",
   "execution_count": 6,
   "id": "ce6bd227-5355-436a-9d48-d3f91ff855f5",
   "metadata": {},
   "outputs": [],
   "source": [
    "cap_tbl=cap_tbl.drop('posteddate','recurringpayment','debitcreditcode')"
   ]
  },
  {
   "cell_type": "code",
   "execution_count": 7,
   "id": "4102c6b2-dd99-430a-9955-b5b2d3a83f90",
   "metadata": {},
   "outputs": [],
   "source": [
    "from pyspark.sql.functions import when,lit"
   ]
  },
  {
   "cell_type": "markdown",
   "id": "46d71a64-63c6-4112-a0f2-40e93d513d58",
   "metadata": {},
   "source": [
    "## Create 'money_in' attribute"
   ]
  },
  {
   "cell_type": "code",
   "execution_count": 8,
   "id": "b2bfdb0e-00f2-434a-8817-c15fa2972a9d",
   "metadata": {},
   "outputs": [],
   "source": [
    "cap_tbl=cap_tbl.withColumn(\"money_in\", \\\n",
    "              when((cap_tbl.conversionrate == 0),lit(cap_tbl.amount)) \\\n",
    "              .otherwise(lit(''))\\\n",
    "             )"
   ]
  },
  {
   "cell_type": "code",
   "execution_count": 9,
   "id": "416a6e3b-c9d1-4b38-8e6f-16e74c94e72a",
   "metadata": {
    "tags": []
   },
   "outputs": [],
   "source": [
    "#cap_tbl.select('date','amount','conversionrate','money_in').filter(\"conversionrate=='0'\").show()"
   ]
  },
  {
   "cell_type": "markdown",
   "id": "93956922-0a6d-4709-928a-7a3b8afdc0b4",
   "metadata": {},
   "source": [
    "## Create 'money_out' attribute"
   ]
  },
  {
   "cell_type": "code",
   "execution_count": 10,
   "id": "369feca0-d0b8-4e44-811c-ed4cde169c37",
   "metadata": {},
   "outputs": [],
   "source": [
    "cap_tbl=cap_tbl.withColumn(\"money_out\", \\\n",
    "              when((cap_tbl.conversionrate >0),lit(cap_tbl.amount)) \\\n",
    "              .otherwise(lit(''))\\\n",
    "             )"
   ]
  },
  {
   "cell_type": "code",
   "execution_count": 11,
   "id": "cddc12a6-9331-48cd-a771-51bedfcbe31e",
   "metadata": {
    "tags": []
   },
   "outputs": [
    {
     "name": "stdout",
     "output_type": "stream",
     "text": [
      "+--------------------+------+--------------+---------+\n",
      "|                date|amount|conversionrate|money_out|\n",
      "+--------------------+------+--------------+---------+\n",
      "|2022-08-22T00:00:00Z| 36.39|           1.0|    36.39|\n",
      "|2022-08-22T00:00:00Z|   2.3|           1.0|      2.3|\n",
      "|2022-08-19T00:00:00Z|   4.6|           1.0|      4.6|\n",
      "|2022-08-19T00:00:00Z| 23.65|           1.0|    23.65|\n",
      "|2022-08-19T00:00:00Z| 26.65|           1.0|    26.65|\n",
      "|2022-08-18T00:00:00Z|   9.0|           1.0|      9.0|\n",
      "|2022-08-18T00:00:00Z|   4.6|           1.0|      4.6|\n",
      "|2022-08-18T00:00:00Z|   1.0|           1.0|      1.0|\n",
      "|2022-08-18T00:00:00Z| 17.96|           1.0|    17.96|\n",
      "|2022-08-18T00:00:00Z|  4.45|           1.0|     4.45|\n",
      "|2022-08-16T00:00:00Z| 23.75|           1.0|    23.75|\n",
      "|2022-08-14T00:00:00Z|  9.99|           1.0|     9.99|\n",
      "|2022-08-13T00:00:00Z|  38.5|           1.0|     38.5|\n",
      "|2022-08-12T00:00:00Z| 41.14|           1.0|    41.14|\n",
      "|2022-08-11T00:00:00Z|  3.95|           1.0|     3.95|\n",
      "|2022-08-11T00:00:00Z|   2.0|           1.0|      2.0|\n",
      "|2022-08-11T00:00:00Z| 17.45|           1.0|    17.45|\n",
      "|2022-08-10T00:00:00Z|  7.31|           1.0|     7.31|\n",
      "|2022-08-10T00:00:00Z|  17.7|           1.0|     17.7|\n",
      "|2022-08-05T00:00:00Z| 19.74|           1.0|    19.74|\n",
      "+--------------------+------+--------------+---------+\n",
      "only showing top 20 rows\n",
      "\n"
     ]
    }
   ],
   "source": [
    "cap_tbl.select('date','amount','conversionrate','money_out').filter(\"conversionrate>'0'\").show()"
   ]
  },
  {
   "cell_type": "markdown",
   "id": "57953553-d2a9-4d77-96b6-1107df9fda01",
   "metadata": {},
   "source": [
    "## Drop 'amount' attribute"
   ]
  },
  {
   "cell_type": "code",
   "execution_count": 12,
   "id": "86ea0c8c-d57b-476f-b3de-4e30cb7f2af7",
   "metadata": {},
   "outputs": [],
   "source": [
    "cap_tbl=cap_tbl.drop('amount')"
   ]
  },
  {
   "cell_type": "markdown",
   "id": "0711d62e-4312-4e7a-b7a9-deb2590183aa",
   "metadata": {},
   "source": [
    "## Rename 'merchant.name' to merchant"
   ]
  },
  {
   "cell_type": "code",
   "execution_count": 13,
   "id": "666c9bda-df89-4ac7-a78b-017d88da093e",
   "metadata": {},
   "outputs": [],
   "source": [
    "cap_tbl=cap_tbl.withColumnRenamed('merchant.name','merchant')"
   ]
  },
  {
   "cell_type": "markdown",
   "id": "92ff9361-c8b3-4a13-9b16-1d949d58b15b",
   "metadata": {},
   "source": [
    "## Rename 'originalcurrencyamount' to original_currency_amount"
   ]
  },
  {
   "cell_type": "code",
   "execution_count": 14,
   "id": "db4f2add-62c5-4114-bb4e-4f6ba48388b4",
   "metadata": {},
   "outputs": [],
   "source": [
    "cap_tbl=cap_tbl.withColumnRenamed('originalcurrencyamount','original_currency_amount')"
   ]
  },
  {
   "cell_type": "markdown",
   "id": "054bdd7e-d9c8-4003-8ad8-964946f8b27a",
   "metadata": {},
   "source": [
    "## Rename 'conversionrate' to conversion_rate"
   ]
  },
  {
   "cell_type": "code",
   "execution_count": 15,
   "id": "17458fc2-795a-4309-9ca1-8fb2499b8f6d",
   "metadata": {},
   "outputs": [],
   "source": [
    "cap_tbl=cap_tbl.withColumnRenamed('conversionrate','conversion_rate')"
   ]
  },
  {
   "cell_type": "markdown",
   "id": "58ef044a-8a5f-47b6-bd47-d4617c8942c1",
   "metadata": {},
   "source": [
    "## Rename 'merchant.town' to merchant_town"
   ]
  },
  {
   "cell_type": "code",
   "execution_count": 16,
   "id": "efd51c08-84e0-494a-95cb-ca003a90c931",
   "metadata": {},
   "outputs": [],
   "source": [
    "cap_tbl=cap_tbl.withColumnRenamed('merchant.town','merchant_town')"
   ]
  },
  {
   "cell_type": "markdown",
   "id": "b3485b14-fccf-4d17-9d99-533b99470c9a",
   "metadata": {},
   "source": [
    "## Rename 'merchant.postcode' to merchant_postcode"
   ]
  },
  {
   "cell_type": "code",
   "execution_count": 17,
   "id": "f1ca0da4-5b8a-4101-98cd-a11d39d9475f",
   "metadata": {},
   "outputs": [],
   "source": [
    "cap_tbl=cap_tbl.withColumnRenamed('merchant.postcode','merchant_postcode')"
   ]
  },
  {
   "cell_type": "markdown",
   "id": "cb7b3c8d-3cad-41be-b5be-38bc65585a38",
   "metadata": {},
   "source": [
    "## Rename 'merchant.country' to merchant_country"
   ]
  },
  {
   "cell_type": "code",
   "execution_count": 18,
   "id": "f3ea9557-a1f5-458a-86a3-e743f5f33e4c",
   "metadata": {},
   "outputs": [],
   "source": [
    "cap_tbl=cap_tbl.withColumnRenamed('merchant.country','merchant_country')"
   ]
  },
  {
   "cell_type": "code",
   "execution_count": 19,
   "id": "92fee8c7-cebd-421d-8dd2-1a8b7da16070",
   "metadata": {},
   "outputs": [],
   "source": [
    "from pyspark.sql import functions as F"
   ]
  },
  {
   "cell_type": "code",
   "execution_count": 20,
   "id": "d0f22cdc-bfef-4350-b130-db31efb92cec",
   "metadata": {},
   "outputs": [],
   "source": [
    "cap_tbl=cap_tbl.withColumn('date', F.col('date').cast(\"timestamp\"))"
   ]
  },
  {
   "cell_type": "markdown",
   "id": "1ffa1f07-6c71-42fb-bd72-efe688e97203",
   "metadata": {},
   "source": [
    "## add buffer attributes to prepare for union"
   ]
  },
  {
   "cell_type": "code",
   "execution_count": 21,
   "id": "43c669c2-6129-4ed1-98fc-8f889dc0c305",
   "metadata": {},
   "outputs": [],
   "source": [
    "cap_tbl=cap_tbl.select(\n",
    "\"date\",\n",
    "\"merchant\",\n",
    "\"description\",\n",
    "\"money_out\",\n",
    "\"money_in\",\n",
    "lit('capital one').alias(\"account\"),\n",
    "lit('UK').alias(\"account_country\"),\n",
    "lit('').alias(\"spending_category\"),\n",
    "\"type\",\n",
    "\"original_currency_amount\",\n",
    "\"currency\",\n",
    "\"conversion_rate\",\n",
    "\"merchant_town\",\n",
    "\"merchant_postcode\",\n",
    "\"merchant_country\"\n",
    ")"
   ]
  },
  {
   "cell_type": "code",
   "execution_count": 22,
   "id": "ab22f50e-6150-487a-a52d-928f4a1aff1d",
   "metadata": {
    "tags": []
   },
   "outputs": [
    {
     "name": "stdout",
     "output_type": "stream",
     "text": [
      "+-------------------+\n",
      "|               date|\n",
      "+-------------------+\n",
      "|2022-08-22 02:00:00|\n",
      "|2022-08-22 02:00:00|\n",
      "|2022-08-19 02:00:00|\n",
      "|2022-08-19 02:00:00|\n",
      "|2022-08-19 02:00:00|\n",
      "|2022-08-18 02:00:00|\n",
      "|2022-08-18 02:00:00|\n",
      "|2022-08-18 02:00:00|\n",
      "|2022-08-18 02:00:00|\n",
      "|2022-08-18 02:00:00|\n",
      "|2022-08-16 02:00:00|\n",
      "|2022-08-14 02:00:00|\n",
      "|2022-08-13 02:00:00|\n",
      "|2022-08-12 02:00:00|\n",
      "|2022-08-11 02:00:00|\n",
      "|2022-08-11 02:00:00|\n",
      "|2022-08-11 02:00:00|\n",
      "|2022-08-10 02:00:00|\n",
      "|2022-08-10 02:00:00|\n",
      "|2022-08-05 02:00:00|\n",
      "+-------------------+\n",
      "only showing top 20 rows\n",
      "\n"
     ]
    }
   ],
   "source": [
    "cap_tbl.select('date').show()"
   ]
  },
  {
   "cell_type": "markdown",
   "id": "7bf0b968-51b3-4b17-8f22-168ec35271e1",
   "metadata": {},
   "source": [
    "## Correct Data types to prepare for Union"
   ]
  },
  {
   "cell_type": "code",
   "execution_count": 23,
   "id": "87dfba99-7791-4031-aac0-907e3af09cda",
   "metadata": {},
   "outputs": [
    {
     "name": "stdout",
     "output_type": "stream",
     "text": [
      "root\n",
      " |-- date: timestamp (nullable = true)\n",
      " |-- merchant: string (nullable = true)\n",
      " |-- description: string (nullable = true)\n",
      " |-- money_out: string (nullable = true)\n",
      " |-- money_in: string (nullable = true)\n",
      " |-- account: string (nullable = false)\n",
      " |-- account_country: string (nullable = false)\n",
      " |-- spending_category: string (nullable = false)\n",
      " |-- type: string (nullable = true)\n",
      " |-- original_currency_amount: double (nullable = true)\n",
      " |-- currency: string (nullable = true)\n",
      " |-- conversion_rate: double (nullable = true)\n",
      " |-- merchant_town: string (nullable = true)\n",
      " |-- merchant_postcode: string (nullable = true)\n",
      " |-- merchant_country: string (nullable = true)\n",
      "\n"
     ]
    }
   ],
   "source": [
    "cap_tbl.printSchema()"
   ]
  },
  {
   "cell_type": "code",
   "execution_count": null,
   "id": "0d94f4b5-8eaa-462b-bebe-4856461ba924",
   "metadata": {},
   "outputs": [],
   "source": []
  }
 ],
 "metadata": {
  "kernelspec": {
   "display_name": "Python 3 (ipykernel)",
   "language": "python",
   "name": "python3"
  },
  "language_info": {
   "codemirror_mode": {
    "name": "ipython",
    "version": 3
   },
   "file_extension": ".py",
   "mimetype": "text/x-python",
   "name": "python",
   "nbconvert_exporter": "python",
   "pygments_lexer": "ipython3",
   "version": "3.10.6"
  }
 },
 "nbformat": 4,
 "nbformat_minor": 5
}
