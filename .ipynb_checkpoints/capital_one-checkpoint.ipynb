{
 "cells": [
  {
   "cell_type": "markdown",
   "id": "1b2f1889-a5d8-4af1-9d29-c1666c93d8c2",
   "metadata": {},
   "source": [
    "#INGEST STATEMENT"
   ]
  },
  {
   "cell_type": "code",
   "execution_count": 2,
   "id": "db036d60-ec61-4fc0-bebf-2bfca348d10a",
   "metadata": {},
   "outputs": [],
   "source": [
    "%run modules/ingest_statement.ipynb "
   ]
  },
  {
   "cell_type": "code",
   "execution_count": 3,
   "id": "82b6f9db-0ec2-48c0-941d-3ee221c06d61",
   "metadata": {},
   "outputs": [],
   "source": [
    "one_drive_link_capital_one=create_onedrive_directdownload('https://1drv.ms/x/s!AiVkYGtq2xelg8Qri9XuUzhAcHgLng?e=oklEp6')"
   ]
  },
  {
   "cell_type": "code",
   "execution_count": 4,
   "id": "fc605ede-fe83-4112-aec8-873ff86da522",
   "metadata": {},
   "outputs": [
    {
     "ename": "NameError",
     "evalue": "name 'one_drive_link_bunq' is not defined",
     "output_type": "error",
     "traceback": [
      "\u001b[1;31m---------------------------------------------------------------------------\u001b[0m",
      "\u001b[1;31mNameError\u001b[0m                                 Traceback (most recent call last)",
      "Input \u001b[1;32mIn [4]\u001b[0m, in \u001b[0;36m<cell line: 1>\u001b[1;34m()\u001b[0m\n\u001b[1;32m----> 1\u001b[0m read_files(\u001b[43mone_drive_link_bunq\u001b[49m)\n",
      "\u001b[1;31mNameError\u001b[0m: name 'one_drive_link_bunq' is not defined"
     ]
    }
   ],
   "source": [
    "read_files(one_drive_link_bunq)"
   ]
  },
  {
   "cell_type": "code",
   "execution_count": null,
   "id": "bb763a82-040c-4e2f-9336-307253643526",
   "metadata": {},
   "outputs": [],
   "source": []
  }
 ],
 "metadata": {
  "kernelspec": {
   "display_name": "Python 3 (ipykernel)",
   "language": "python",
   "name": "python3"
  },
  "language_info": {
   "codemirror_mode": {
    "name": "ipython",
    "version": 3
   },
   "file_extension": ".py",
   "mimetype": "text/x-python",
   "name": "python",
   "nbconvert_exporter": "python",
   "pygments_lexer": "ipython3",
   "version": "3.10.6"
  }
 },
 "nbformat": 4,
 "nbformat_minor": 5
}
