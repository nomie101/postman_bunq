{
 "cells": [
  {
   "cell_type": "code",
   "execution_count": 1,
   "id": "722224b3-a449-4319-957e-30fe1247b1ab",
   "metadata": {},
   "outputs": [],
   "source": [
    "import findspark"
   ]
  },
  {
   "cell_type": "code",
   "execution_count": 2,
   "id": "983160f3-268b-48ec-a754-edc706816763",
   "metadata": {},
   "outputs": [],
   "source": [
    "findspark.init()\n"
   ]
  },
  {
   "cell_type": "code",
   "execution_count": 3,
   "id": "60aab027-cae0-4e65-8de0-1eb49527ba81",
   "metadata": {},
   "outputs": [],
   "source": [
    "import pyspark"
   ]
  },
  {
   "cell_type": "code",
   "execution_count": 4,
   "id": "99f1cf48-c428-436b-8041-ff917e7476bc",
   "metadata": {},
   "outputs": [],
   "source": [
    "\n",
    "from pyspark.sql import SparkSession"
   ]
  },
  {
   "cell_type": "code",
   "execution_count": 5,
   "id": "6b65acc9-b995-4d60-819a-6df8b4ea648b",
   "metadata": {},
   "outputs": [],
   "source": [
    "spark=SparkSession.builder.appName('Practice').config(\"spark.jars.packages\",\"com.crealytics:spark-excel_2.12:0.13.7\").getOrCreate()"
   ]
  },
  {
   "cell_type": "code",
   "execution_count": 6,
   "id": "9f495b36-1df6-46f5-b4ea-8e5910d29c91",
   "metadata": {},
   "outputs": [
    {
     "data": {
      "text/html": [
       "\n",
       "            <div>\n",
       "                <p><b>SparkSession - in-memory</b></p>\n",
       "                \n",
       "        <div>\n",
       "            <p><b>SparkContext</b></p>\n",
       "\n",
       "            <p><a href=\"http://host.docker.internal:4040\">Spark UI</a></p>\n",
       "\n",
       "            <dl>\n",
       "              <dt>Version</dt>\n",
       "                <dd><code>v3.3.0</code></dd>\n",
       "              <dt>Master</dt>\n",
       "                <dd><code>local[*]</code></dd>\n",
       "              <dt>AppName</dt>\n",
       "                <dd><code>Practice</code></dd>\n",
       "            </dl>\n",
       "        </div>\n",
       "        \n",
       "            </div>\n",
       "        "
      ],
      "text/plain": [
       "<pyspark.sql.session.SparkSession at 0x179b789f250>"
      ]
     },
     "execution_count": 6,
     "metadata": {},
     "output_type": "execute_result"
    }
   ],
   "source": [
    "spark\n"
   ]
  },
  {
   "cell_type": "markdown",
   "id": "159e7cd2-df62-4f50-83c4-750626b54a38",
   "metadata": {},
   "source": [
    "# READ BUNQ STATEMEENT"
   ]
  },
  {
   "cell_type": "code",
   "execution_count": 7,
   "id": "bc7e4171-0d7c-401a-a0f9-ffea6aad5f77",
   "metadata": {},
   "outputs": [],
   "source": [
    "\n",
    "import base64"
   ]
  },
  {
   "cell_type": "code",
   "execution_count": 8,
   "id": "ea88f5c3-c8ad-4ae8-b1cb-9b94844e853e",
   "metadata": {},
   "outputs": [],
   "source": [
    "import pandas"
   ]
  },
  {
   "cell_type": "code",
   "execution_count": 9,
   "id": "945e532d-098b-4407-8993-8000aed97e03",
   "metadata": {},
   "outputs": [],
   "source": [
    "def create_onedrive_directdownload (onedrive_link):\n",
    "    data_bytes64 = base64.b64encode(bytes(onedrive_link, 'utf-8'))\n",
    "    data_bytes64_String = data_bytes64.decode('utf-8').replace('/','_').replace('+','-').rstrip(\"=\")\n",
    "    resultUrl = f\"https://api.onedrive.com/v1.0/shares/u!{data_bytes64_String}/root/content\"\n",
    "    return resultUrl"
   ]
  },
  {
   "cell_type": "code",
   "execution_count": 10,
   "id": "04b01285-30c2-4c67-8cc4-e7e44c990961",
   "metadata": {},
   "outputs": [],
   "source": [
    "one_drive_link_bunq=create_onedrive_directdownload('https://1drv.ms/x/s!AiVkYGtq2xelg8Qdj0pRi33vVMMzag?e=TpHMBp')"
   ]
  },
  {
   "cell_type": "code",
   "execution_count": 11,
   "id": "a4481a3c-cd71-467a-a905-1b6c96e46515",
   "metadata": {},
   "outputs": [],
   "source": [
    "one_drive_link_capital_one=create_onedrive_directdownload('https://1drv.ms/x/s!AiVkYGtq2xelg8Qri9XuUzhAcHgLng?e=oklEp6')"
   ]
  },
  {
   "cell_type": "code",
   "execution_count": 12,
   "id": "ac65b12f-1d85-474e-82d2-5a8756c38902",
   "metadata": {},
   "outputs": [],
   "source": [
    "one_drive_link_santander=create_onedrive_directdownload('https://1drv.ms/x/s!AiVkYGtq2xelg8Q2juJgJ9xbPnFcWA?e=1PqwVY')"
   ]
  },
  {
   "cell_type": "code",
   "execution_count": 13,
   "id": "1efe5068",
   "metadata": {},
   "outputs": [],
   "source": [
    "one_drive_link_santander=create_onedrive_directdownload('https://1drv.ms/x/s!AiVkYGtq2xelg8Q2juJgJ9xbPnFcWA?e=1PqwVY')"
   ]
  },
  {
   "cell_type": "code",
   "execution_count": 26,
   "id": "5d0f8023-2f51-478b-9847-a3435834969f",
   "metadata": {},
   "outputs": [],
   "source": [
    "def read_files(file):\n",
    "    df_file=spark.read.format(\"com.crealytics.spark.excel\") \\\n",
    "    .option(\"header\", \"true\") \\\n",
    "    .option(\"inferSchema\", \"true\") \\\n",
    "    .load(file)\n",
    "    return df_file.show()"
   ]
  },
  {
   "cell_type": "code",
   "execution_count": 27,
   "id": "837bcda0-d9e5-4aba-ba3c-b2bde70c80a8",
   "metadata": {},
   "outputs": [
    {
     "name": "stdout",
     "output_type": "stream",
     "text": [
      "+-------------------+-------------------+-------+------------------+--------------------+--------------------+--------------------+\n",
      "|               Date|      Interest Date| Amount|           Account|        Counterparty|                Name|         Description|\n",
      "+-------------------+-------------------+-------+------------------+--------------------+--------------------+--------------------+\n",
      "|2022-01-01 00:00:00|2022-01-01 00:00:00|   0.09|NL38BUNQ2064666400|  NL85BUNQ2067219952|                bunq|    Interest payment|\n",
      "|2022-01-03 00:00:00|2022-01-03 00:00:00|  -75.0|NL38BUNQ2064666400|  NL54INGB0000000503|Vattenfall Klante...|515403848746 Fact...|\n",
      "|2022-01-04 00:00:00|2022-01-05 00:00:00| -300.0|NL38BUNQ2064666400|GB90ABBY090128056...|       Nomzamo Ncube|                null|\n",
      "|2022-01-05 00:00:00|2022-01-05 00:00:00|  -15.0|NL38BUNQ2064666400|  NL62ABNA0462625036|       BUDGET MOBIEL|O226496421/+31610...|\n",
      "|2022-01-06 00:00:00|2022-01-06 00:00:00|  -43.0|NL38BUNQ2064666400|  NL18INGB0005309282|         GREENCHOICE|Uw termijnnota me...|\n",
      "|2022-01-06 00:00:00|2022-01-06 00:00:00|  -44.0|NL38BUNQ2064666400|  NL75RABO0105845590|Trainmore Piet He...|01-01-2022 / 31-0...|\n",
      "|2022-01-11 00:00:00|2022-01-11 00:00:00| -250.0|NL38BUNQ2064666400|GB90ABBY090128056...|       Nomzamo Ncube|                null|\n",
      "|2022-01-13 00:00:00|2022-01-13 00:00:00|   -5.1|NL38BUNQ2064666400|  NL14ABNA0576850675|       NS Groep N.V.|R010210190054 003...|\n",
      "|2022-01-17 00:00:00|2022-01-17 00:00:00|  -2.77|NL38BUNQ2064666400|  NL16ABNA0246063858|               DITZO|7585397304 Premie...|\n",
      "|2022-01-19 00:00:00|2022-01-19 00:00:00|  -8.99|NL38BUNQ2064666400|  NL89BUNQ2025105584|                bunq|     invoice 7484677|\n",
      "|2022-01-23 00:00:00|2022-01-23 00:00:00| -70.91|NL38BUNQ2064666400|  NL59ABNA0626226163|DHL International...|21536643783 00300...|\n",
      "|2022-01-23 00:00:00|2022-01-23 00:00:00|   -5.7|NL38BUNQ2064666400|                null|     NS-Schiphol 212|NS-Schiphol 212 L...|\n",
      "|2022-01-24 00:00:00|2022-01-24 00:00:00| -14.51|NL38BUNQ2064666400|                null|   ALBERT HEIJN 2211|ALBERT HEIJN 2211...|\n",
      "|2022-01-24 00:00:00|2022-01-24 00:00:00|3679.74|NL38BUNQ2064666400|  NL22BNPA0227661567|     EMAKINA.NL B.V.|Salaris Januari 2022|\n",
      "|2022-01-26 00:00:00|2022-01-25 00:00:00|  -35.0|NL38BUNQ2064666400|  NL95COBA0637055934| T-MOBILE THUIS B.V.|T-Mobile Thuis NT...|\n",
      "|2022-01-26 00:00:00|2022-01-26 00:00:00|  -9.92|NL38BUNQ2064666400|                null|   ALBERT HEIJN 2211|ALBERT HEIJN 2211...|\n",
      "|2022-01-26 00:00:00|2022-01-26 00:00:00| -18.14|NL38BUNQ2064666400|  NL31ABNA0494688556|Thuisbezorgd.nl v...|MQCLTA 0030009371...|\n",
      "|2022-01-26 00:00:00|2022-01-27 00:00:00|-1207.0|NL38BUNQ2064666400|  NL95RABO0314621822|     BPD Woningfonds|Eef kamerbeekstra...|\n",
      "|2022-01-26 00:00:00|2022-01-26 00:00:00|  -34.9|NL38BUNQ2064666400|  NL17DEUT0265262879|Barnwoodweb by Mu...|557397999 1151000...|\n",
      "|2022-01-26 00:00:00|2022-01-26 00:00:00|  -10.9|NL38BUNQ2064666400|  NL35RABO0117713678|Paint-discount vi...|1678166106X3a89e ...|\n",
      "+-------------------+-------------------+-------+------------------+--------------------+--------------------+--------------------+\n",
      "only showing top 20 rows\n",
      "\n"
     ]
    }
   ],
   "source": [
    "read_files(one_drive_link_bunq)"
   ]
  },
  {
   "cell_type": "code",
   "execution_count": null,
   "id": "3e633c95-49b0-4456-9319-3b9fbaa61f51",
   "metadata": {},
   "outputs": [],
   "source": []
  },
  {
   "cell_type": "code",
   "execution_count": 16,
   "id": "0493cd4e-5f29-439c-9863-218c19551322",
   "metadata": {},
   "outputs": [],
   "source": [
    "df_bunq = spark.read.format(\"com.crealytics.spark.excel\") \\\n",
    ".option(\"header\", \"true\") \\\n",
    ".option(\"inferSchema\", \"true\") \\\n",
    ".load(one_drive_link_bunq)"
   ]
  },
  {
   "cell_type": "code",
   "execution_count": 17,
   "id": "8557b4cd-2040-47d2-a50c-89b0d2bc1783",
   "metadata": {},
   "outputs": [],
   "source": [
    "df_santander = spark.read.format(\"com.crealytics.spark.excel\") \\\n",
    ".option(\"header\", \"true\") \\\n",
    ".option(\"inferSchema\", \"true\") \\\n",
    ".load(one_drive_link_santander)"
   ]
  },
  {
   "cell_type": "code",
   "execution_count": 18,
   "id": "efb81cd1",
   "metadata": {},
   "outputs": [],
   "source": [
    "df_capital_one = spark.read.format(\"com.crealytics.spark.excel\") \\\n",
    ".option(\"header\", \"true\") \\\n",
    ".option(\"inferSchema\", \"true\") \\\n",
    ".load(one_drive_link_capital_one)"
   ]
  },
  {
   "cell_type": "code",
   "execution_count": 19,
   "id": "345eec03",
   "metadata": {},
   "outputs": [],
   "source": [
    "df_santander = spark.read.format(\"com.crealytics.spark.excel\") \\\n",
    ".option(\"header\", \"true\") \\\n",
    ".option(\"inferSchema\", \"true\") \\\n",
    ".load(one_drive_link_santander)"
   ]
  },
  {
   "cell_type": "code",
   "execution_count": 20,
   "id": "dd564c85-e4ae-434e-bc9e-ea851bc91248",
   "metadata": {},
   "outputs": [
    {
     "name": "stdout",
     "output_type": "stream",
     "text": [
      "+--------------------+--------------------+------+--------------------+----------------+----------------------+--------------+-------+--------+---------------+--------------------+-------------+-----------------+----------------+\n",
      "|                date|          postedDate|amount|         description|recurringPayment|originalCurrencyAmount|conversionRate|   type|currency|debitCreditCode|       merchant.name|merchant.town|merchant.postCode|merchant.country|\n",
      "+--------------------+--------------------+------+--------------------+----------------+----------------------+--------------+-------+--------+---------------+--------------------+-------------+-----------------+----------------+\n",
      "|2022-08-22T00:00:00Z|2022-08-23T17:04:39Z| 36.39|Trainline London GBR|           false|                 36.39|           1.0|Current|     GBP|          Debit|           Trainline|       London|         EC1N 2TD|             GBR|\n",
      "|2022-08-22T00:00:00Z|2022-08-23T17:04:40Z|   2.3|ARRIVA KENT THAME...|           false|                   2.3|           1.0|Current|     GBP|          Debit|ARRIVA KENT THAME...|    MAIDSTONE|         ME15 6TX|             GBR|\n",
      "|2022-08-19T00:00:00Z|2022-08-21T17:07:12Z|   4.6|ARRIVA KENT THAME...|           false|                   4.6|           1.0|Current|     GBP|          Debit|ARRIVA KENT THAME...|    MAIDSTONE|         ME15 6TX|             GBR|\n",
      "|2022-08-19T00:00:00Z|2022-08-21T17:07:13Z| 23.65|SUPERDRUG STORES ...|           false|                 23.65|           1.0|Current|     GBP|          Debit|SUPERDRUG STORES PLC|     SOUTHEND|          SS1 1JD|             GBR|\n",
      "|2022-08-19T00:00:00Z|2022-08-21T17:07:14Z| 26.65|PIZZA EXPRESS SOU...|           false|                 26.65|           1.0|Current|     GBP|          Debit|       PIZZA EXPRESS|SOUTHEND 1311|           SS11PR|             GBR|\n",
      "|2022-08-18T00:00:00Z|2022-08-19T17:06:35Z|   9.0|OLIVE OIL & OREGA...|           false|                   9.0|           1.0|Current|     GBP|          Debit| OLIVE OIL & OREGANO|   GRAYS RM20|         RM20 2ZN|             GBR|\n",
      "|2022-08-18T00:00:00Z|2022-08-19T17:06:36Z|   4.6|ARRIVA KENT THAME...|           false|                   4.6|           1.0|Current|     GBP|          Debit|ARRIVA KENT THAME...|    MAIDSTONE|         ME15 6TX|             GBR|\n",
      "|2022-08-18T00:00:00Z|2022-08-19T17:06:37Z|   1.0|BOOTS/0944 SOUTHE...|           false|                   1.0|           1.0|Current|     GBP|          Debit|          BOOTS/0944|SOUTHEND ON S|          SS1 1DE|             GBR|\n",
      "|2022-08-18T00:00:00Z|2022-08-19T17:06:38Z| 17.96|CRAZY CAVE Southe...|           false|                 17.96|           1.0|Current|     GBP|          Debit|          CRAZY CAVE|Southend-On-S|          SS1 1JF|             GBR|\n",
      "|2022-08-18T00:00:00Z|2022-08-19T17:06:39Z|  4.45|Yole Lakeside Gra...|           false|                  4.45|           1.0|Current|     GBP|          Debit|       Yole Lakeside|        Grays|         RM20 2ZP|             GBR|\n",
      "|2022-08-16T00:00:00Z|2022-08-18T17:04:42Z| 23.75|WWW.JUST-EAT.CO.U...|           false|                 23.75|           1.0|Current|     GBP|          Debit|  WWW.JUST-EAT.CO.UK| 02067 362061|          WD6 1JN|             GBR|\n",
      "|2022-08-14T00:00:00Z|2022-08-15T17:05:42Z|  9.99|PAYPAL *SPOTIFY 3...|           false|                  9.99|           1.0|Current|     GBP|          Debit|     PAYPAL *SPOTIFY|  35314369001|           W1F7TU|             GBR|\n",
      "|2022-08-13T00:00:00Z|2022-08-14T17:06:34Z|  38.5|ASDA SUPERSTORE S...|           false|                  38.5|           1.0|Current|     GBP|          Debit|     ASDA SUPERSTORE| SHOEBURYNESS|          SS3 8DA|             GBR|\n",
      "|2022-08-12T00:00:00Z|2022-08-14T17:06:33Z| 41.14|ASDA SUPERSTORE S...|           false|                 41.14|           1.0|Current|     GBP|          Debit|     ASDA SUPERSTORE| SHOEBURYNESS|          SS3 8DA|             GBR|\n",
      "|2022-08-11T00:00:00Z|2022-08-12T17:06:21Z|  3.95|MARIE CURIE CANCE...|           false|                  3.95|           1.0|Current|     GBP|          Debit|MARIE CURIE CANCE...|      SWINDON|          SS3 8DA|             GBR|\n",
      "|2022-08-11T00:00:00Z|2022-08-14T17:06:31Z|   2.0|ASDA SUPERSTORE S...|           false|                   2.0|           1.0|Current|     GBP|          Debit|     ASDA SUPERSTORE| SHOEBURYNESS|          SS3 8DA|             GBR|\n",
      "|2022-08-11T00:00:00Z|2022-08-14T17:06:32Z| 17.45|ASDA SUPERSTORE S...|           false|                 17.45|           1.0|Current|     GBP|          Debit|     ASDA SUPERSTORE| SHOEBURYNESS|          SS3 8DA|             GBR|\n",
      "|2022-08-10T00:00:00Z|2022-08-11T17:06:17Z|  7.31|PAYPAL *UBERPAYME...|           false|                  7.31|           1.0|Current|     GBP|          Debit| PAYPAL *UBERPAYMENT|  35314369001|           1097DP|             NLD|\n",
      "|2022-08-10T00:00:00Z|2022-08-11T17:06:18Z|  17.7|          TSGN LUTON|           false|                  17.7|           1.0|Current|     GBP|          Debit|                TSGN|        LUTON|          LU1 3JW|             GBR|\n",
      "|2022-08-05T00:00:00Z|2022-08-08T17:09:09Z| 19.74|PAYPAL *UBERPAYME...|           false|                 19.74|           1.0| Cycled|     GBP|          Debit| PAYPAL *UBERPAYMENT|  35314369001|           1097DP|             NLD|\n",
      "+--------------------+--------------------+------+--------------------+----------------+----------------------+--------------+-------+--------+---------------+--------------------+-------------+-----------------+----------------+\n",
      "only showing top 20 rows\n",
      "\n"
     ]
    }
   ],
   "source": [
    "df_capital_one.show()"
   ]
  },
  {
   "cell_type": "code",
   "execution_count": null,
   "id": "1f5568b1-1cbe-4060-874a-0251646af18f",
   "metadata": {},
   "outputs": [],
   "source": []
  },
  {
   "cell_type": "code",
   "execution_count": 21,
   "id": "70deb481-12e1-48d6-97c0-915024726000",
   "metadata": {},
   "outputs": [
    {
     "name": "stdout",
     "output_type": "stream",
     "text": [
      "+----+-------------------+--------------------+--------+---------+--------+\n",
      "| _c0|               Date|         Description|Money in|Money Out| Balance|\n",
      "+----+-------------------+--------------------+--------+---------+--------+\n",
      "|null|2022-08-22 00:00:00|BILL PAYMENT VIA ...|    null|     90.0|-1155.81|\n",
      "|null|2022-08-20 00:00:00|BILL PAYMENT VIA ...|    null|     50.0|-1065.81|\n",
      "|null|2022-08-20 00:00:00|FASTER PAYMENTS R...|    50.0|     null|-1015.81|\n",
      "|null|2022-08-19 00:00:00|BILL PAYMENT VIA ...|    null|     50.0|-1065.81|\n",
      "|null|2022-08-13 00:00:00|BILL PAYMENT VIA ...|    null|     85.0|-1015.81|\n",
      "|null|2022-08-10 00:00:00|ARRANGED OVERDRAF...|    null|    21.05| -930.81|\n",
      "|null|2022-08-02 00:00:00|DIRECT DEBIT PAYM...|    null|   136.48| -909.76|\n",
      "|null|2022-07-12 00:00:00|ARRANGED OVERDRAF...|    null|    19.96| -773.28|\n",
      "|null|2022-07-04 00:00:00|FASTER PAYMENTS R...|   74.37|     null| -753.32|\n",
      "|null|2022-07-04 00:00:00|BILL PAYMENT VIA ...|    null|   702.31| -827.69|\n",
      "|null|2022-07-04 00:00:00|DIRECT DEBIT PAYM...|    null|   140.63| -125.38|\n",
      "|null|2022-07-01 00:00:00|BILL PAYMENT VIA ...|    null|    100.0|   15.25|\n",
      "|null|2022-06-27 00:00:00|TRANSFER FROM N. ...| 1666.77|     null|  115.25|\n",
      "|null|2022-06-26 00:00:00|BILL PAYMENT VIA ...|    null|    400.0|-1551.52|\n",
      "|null|2022-06-19 00:00:00|BILL PAYMENT VIA ...|    null|      5.0|-1151.52|\n",
      "|null|2022-06-13 00:00:00|BILL PAYMENT VIA ...|    null|    100.0|-1146.52|\n",
      "|null|2022-06-10 00:00:00|ARRANGED OVERDRAF...|    null|     0.14|-1046.52|\n",
      "|null|2022-06-07 00:00:00|BILL PAYMENT VIA ...|    null|      5.0|-1046.38|\n",
      "|null|2022-06-06 00:00:00|DIRECT DEBIT PAYM...|    null|    117.4|-1041.38|\n",
      "|null|2022-05-31 00:00:00|CARD PAYMENT TO B...|    null|     9.41| -923.98|\n",
      "|null|2022-05-31 00:00:00|CARD PAYMENT TO B...|    null|     6.59| -914.57|\n",
      "|null|2022-05-26 00:00:00|BILL PAYMENT VIA ...|    null|     45.0| -907.98|\n",
      "|null|2022-05-26 00:00:00|BILL PAYMENT VIA ...|    null|   702.31| -862.98|\n",
      "|null|2022-05-24 00:00:00|CARD PAYMENT TO V...|    null|     3.68| -160.67|\n",
      "|null|2022-05-21 00:00:00|Third party payme...|    null|      1.0| -156.99|\n",
      "|null|2022-05-17 00:00:00|CARD PAYMENT TO V...|    null|     5.54| -155.99|\n",
      "|null|2022-05-17 00:00:00|CARD PAYMENT TO J...|    null|    15.14| -150.45|\n",
      "|null|2022-05-17 00:00:00|CARD PAYMENT TO V...|    null|     3.76| -135.31|\n",
      "|null|2022-05-14 00:00:00|CARD PAYMENT TO E...|    null|     24.0| -131.55|\n",
      "|null|2022-05-14 00:00:00|CARD PAYMENT TO W...|    null|    24.99| -107.55|\n",
      "|null|2022-05-14 00:00:00|CARD PAYMENT TO W...|    null|     6.67|  -82.56|\n",
      "|null|2022-05-14 00:00:00|CARD PAYMENT TO A...|    null|      3.1|  -75.89|\n",
      "|null|2022-05-14 00:00:00|CARD PAYMENT TO W...|    null|      7.0|  -72.79|\n",
      "|null|2022-05-14 00:00:00|CARD PAYMENT TO G...|    null|     38.7|  -65.79|\n",
      "|null|2022-05-14 00:00:00|CARD PAYMENT TO C...|    null|     8.96|  -27.09|\n",
      "|null|2022-05-14 00:00:00|CARD PAYMENT TO A...|    null|      3.2|  -18.13|\n",
      "|null|2022-05-13 00:00:00|CARD PAYMENT TO A...|    null|     13.4|  -14.93|\n",
      "|null|2022-05-13 00:00:00|CARD PAYMENT TO A...|    null|     25.0|   -1.53|\n",
      "|null|2022-05-13 00:00:00|CARD PAYMENT TO S...|    null|      5.8|   23.47|\n",
      "|null|2022-05-12 00:00:00|CARD PAYMENT TO A...|    null|      3.4|   29.27|\n",
      "|null|2022-05-12 00:00:00|CARD PAYMENT TO S...|    null|     6.75|   32.67|\n",
      "|null|2022-05-11 00:00:00|ARRANGED OVERDRAF...|    null|    15.02|   39.42|\n",
      "|null|2022-05-11 00:00:00|BILL PAYMENT VIA ...|    null|     50.0|   54.44|\n",
      "|null|2022-05-11 00:00:00|CARD PAYMENT TO M...|    null|    41.15|  104.44|\n",
      "|null|2022-05-11 00:00:00|CARD PAYMENT TO A...|    null|    25.89|  145.59|\n",
      "|null|2022-05-11 00:00:00|CARD PAYMENT TO H...|    null|     20.0|  171.48|\n",
      "|null|2022-05-11 00:00:00|CARD PAYMENT TO C...|    null|      5.7|  191.48|\n",
      "|null|2022-05-11 00:00:00|CREDIT FROM MEADO...|    18.7|     null|  197.18|\n",
      "|null|2022-05-10 00:00:00|CARD PAYMENT TO A...|    null|     24.2|  178.48|\n",
      "|null|2022-05-10 00:00:00|CARD PAYMENT TO B...|    null|     5.15|  202.68|\n",
      "|null|2022-05-10 00:00:00|CARD PAYMENT TO T...|    null|    20.97|  207.83|\n",
      "|null|2022-05-10 00:00:00|CARD PAYMENT TO B...|    null|     13.0|   228.8|\n",
      "|null|2022-05-10 00:00:00|CARD PAYMENT TO H...|    null|     30.0|   241.8|\n",
      "|null|2022-05-10 00:00:00|CARD PAYMENT TO M...|    null|      3.0|   271.8|\n",
      "|null|2022-05-10 00:00:00|CARD PAYMENT TO A...|    null|      7.0|   274.8|\n",
      "|null|2022-05-10 00:00:00|CARD PAYMENT TO A...|    null|      3.2|   281.8|\n",
      "|null|2022-05-10 00:00:00|CARD PAYMENT TO S...|    null|     13.7|   285.0|\n",
      "|null|2022-05-10 00:00:00|CARD PAYMENT TO P...|    null|     3.75|   298.7|\n",
      "|null|2022-05-10 00:00:00|CARD PAYMENT TO N...|    null|     16.0|  302.45|\n",
      "|null|2022-05-10 00:00:00|CARD PAYMENT TO B...|    null|      2.1|  318.45|\n",
      "|null|2022-05-10 00:00:00|CARD PAYMENT TO B...|    null|    10.48|  320.55|\n",
      "|null|2022-05-10 00:00:00|CARD PAYMENT TO G...|    null|     1.59|  331.03|\n",
      "|null|2022-05-08 00:00:00|CARD PAYMENT TO B...|    null|    13.35|  332.62|\n",
      "|null|2022-05-03 00:00:00|DIRECT DEBIT PAYM...|    null|    43.46|  345.97|\n",
      "|null|2022-05-01 00:00:00|CARD PAYMENT TO E...|    null|    89.33|  389.43|\n",
      "|null|2022-04-26 00:00:00|CARD PAYMENT TO B...|    null|    13.08|  478.76|\n",
      "|null|2022-04-26 00:00:00|CARD PAYMENT TO B...|    null|    10.05|  491.84|\n",
      "|null|2022-04-20 00:00:00|CREDIT FROM WORLD...|    15.7|     null|  501.89|\n",
      "|null|2022-04-16 00:00:00|BILL PAYMENT VIA ...|    null|     49.0|  486.19|\n",
      "|null|2022-04-15 00:00:00|BILL PAYMENT VIA ...|    null|     45.0|  535.19|\n",
      "|null|2022-04-12 00:00:00|CARD PAYMENT TO S...|    null|     6.75|  580.19|\n",
      "|null|2022-04-11 00:00:00|ARRANGED OVERDRAF...|    null|    19.64|  586.94|\n",
      "|null|2022-04-09 00:00:00|CARD PAYMENT TO G...|    null|     1.59|  606.58|\n",
      "|null|2022-04-05 00:00:00|CARD PAYMENT TO B...|    null|     7.73|  608.17|\n",
      "|null|2022-04-05 00:00:00|CARD PAYMENT TO B...|    null|    11.29|   615.9|\n",
      "|null|2022-04-04 00:00:00|DIRECT DEBIT PAYM...|    null|    63.33|  627.19|\n",
      "|null|2022-03-30 00:00:00|CARD PAYMENT TO W...|    null|   264.84|  690.52|\n",
      "|null|2022-03-28 00:00:00|FASTER PAYMENTS R...|  2200.0|     null|  955.36|\n",
      "|null|2022-03-26 00:00:00|CARD PAYMENT TO W...|    null|     5.21|-1244.64|\n",
      "|null|2022-03-20 00:00:00|CARD PAYMENT TO B...|    null|     6.34|-1239.43|\n",
      "|null|2022-03-14 00:00:00|ARRANGED OVERDRAF...|    null|     2.97|-1233.09|\n",
      "|null|2022-03-13 00:00:00|CARD PAYMENT TO B...|    null|     7.02|-1230.12|\n",
      "|null|2022-03-13 00:00:00|CARD PAYMENT TO B...|    null|    13.35| -1223.1|\n",
      "|null|2022-03-13 00:00:00|CARD PAYMENT TO P...|    null|     8.85|-1209.75|\n",
      "|null|2022-03-12 00:00:00|CARD PAYMENT TO E...|    null|     24.0| -1200.9|\n",
      "|null|2022-03-12 00:00:00|CARD PAYMENT TO E...|    null|    90.98| -1176.9|\n",
      "|null|2022-03-12 00:00:00|CARD PAYMENT TO G...|    null|      2.4|-1085.92|\n",
      "|null|2022-03-12 00:00:00|CARD PAYMENT TO C...|    null|     32.0|-1083.52|\n",
      "|null|2022-03-12 00:00:00|CARD PAYMENT TO V...|    null|      5.0|-1051.52|\n",
      "|null|2022-03-12 00:00:00|CARD PAYMENT TO P...|    null|     20.5|-1046.52|\n",
      "|null|2022-03-12 00:00:00|CARD PAYMENT TO A...|    null|      2.1|-1026.02|\n",
      "|null|2022-03-12 00:00:00|CARD PAYMENT TO A...|    null|      3.0|-1023.92|\n",
      "|null|2022-03-12 00:00:00|CARD PAYMENT TO S...|    null|     6.87|-1020.92|\n",
      "|null|2022-03-11 00:00:00|CARD PAYMENT TO P...|    null|     1.99|-1014.05|\n",
      "|null|2022-03-11 00:00:00|CARD PAYMENT TO W...|    null|      4.0|-1012.06|\n",
      "|null|2022-03-11 00:00:00|CARD PAYMENT TO C...|    null|     12.2|-1008.06|\n",
      "|null|2022-03-11 00:00:00|CARD PAYMENT TO S...|    null|     6.59| -995.86|\n",
      "|null|2022-03-11 00:00:00|CARD PAYMENT TO A...|    null|      4.4| -989.27|\n",
      "|null|2022-03-10 00:00:00|CARD PAYMENT TO W...|    null|    26.96| -984.87|\n",
      "|null|2022-03-10 00:00:00|CARD PAYMENT TO W...|    null|     18.5| -957.91|\n",
      "+----+-------------------+--------------------+--------+---------+--------+\n",
      "only showing top 100 rows\n",
      "\n"
     ]
    }
   ],
   "source": [
    "df_santander.show(100)"
   ]
  },
  {
   "cell_type": "code",
   "execution_count": 22,
   "id": "90e60c0e-6095-4a62-a23c-b42a392d5ac5",
   "metadata": {
    "tags": []
   },
   "outputs": [
    {
     "name": "stdout",
     "output_type": "stream",
     "text": [
      "+-------------------+-------------------+-------+------------------+--------------------+--------------------+--------------------+\n",
      "|               Date|      Interest Date| Amount|           Account|        Counterparty|                Name|         Description|\n",
      "+-------------------+-------------------+-------+------------------+--------------------+--------------------+--------------------+\n",
      "|2022-01-01 00:00:00|2022-01-01 00:00:00|   0.09|NL38BUNQ2064666400|  NL85BUNQ2067219952|                bunq|    Interest payment|\n",
      "|2022-01-03 00:00:00|2022-01-03 00:00:00|  -75.0|NL38BUNQ2064666400|  NL54INGB0000000503|Vattenfall Klante...|515403848746 Fact...|\n",
      "|2022-01-04 00:00:00|2022-01-05 00:00:00| -300.0|NL38BUNQ2064666400|GB90ABBY090128056...|       Nomzamo Ncube|                null|\n",
      "|2022-01-05 00:00:00|2022-01-05 00:00:00|  -15.0|NL38BUNQ2064666400|  NL62ABNA0462625036|       BUDGET MOBIEL|O226496421/+31610...|\n",
      "|2022-01-06 00:00:00|2022-01-06 00:00:00|  -43.0|NL38BUNQ2064666400|  NL18INGB0005309282|         GREENCHOICE|Uw termijnnota me...|\n",
      "|2022-01-06 00:00:00|2022-01-06 00:00:00|  -44.0|NL38BUNQ2064666400|  NL75RABO0105845590|Trainmore Piet He...|01-01-2022 / 31-0...|\n",
      "|2022-01-11 00:00:00|2022-01-11 00:00:00| -250.0|NL38BUNQ2064666400|GB90ABBY090128056...|       Nomzamo Ncube|                null|\n",
      "|2022-01-13 00:00:00|2022-01-13 00:00:00|   -5.1|NL38BUNQ2064666400|  NL14ABNA0576850675|       NS Groep N.V.|R010210190054 003...|\n",
      "|2022-01-17 00:00:00|2022-01-17 00:00:00|  -2.77|NL38BUNQ2064666400|  NL16ABNA0246063858|               DITZO|7585397304 Premie...|\n",
      "|2022-01-19 00:00:00|2022-01-19 00:00:00|  -8.99|NL38BUNQ2064666400|  NL89BUNQ2025105584|                bunq|     invoice 7484677|\n",
      "|2022-01-23 00:00:00|2022-01-23 00:00:00| -70.91|NL38BUNQ2064666400|  NL59ABNA0626226163|DHL International...|21536643783 00300...|\n",
      "|2022-01-23 00:00:00|2022-01-23 00:00:00|   -5.7|NL38BUNQ2064666400|                null|     NS-Schiphol 212|NS-Schiphol 212 L...|\n",
      "|2022-01-24 00:00:00|2022-01-24 00:00:00| -14.51|NL38BUNQ2064666400|                null|   ALBERT HEIJN 2211|ALBERT HEIJN 2211...|\n",
      "|2022-01-24 00:00:00|2022-01-24 00:00:00|3679.74|NL38BUNQ2064666400|  NL22BNPA0227661567|     EMAKINA.NL B.V.|Salaris Januari 2022|\n",
      "|2022-01-26 00:00:00|2022-01-25 00:00:00|  -35.0|NL38BUNQ2064666400|  NL95COBA0637055934| T-MOBILE THUIS B.V.|T-Mobile Thuis NT...|\n",
      "|2022-01-26 00:00:00|2022-01-26 00:00:00|  -9.92|NL38BUNQ2064666400|                null|   ALBERT HEIJN 2211|ALBERT HEIJN 2211...|\n",
      "|2022-01-26 00:00:00|2022-01-26 00:00:00| -18.14|NL38BUNQ2064666400|  NL31ABNA0494688556|Thuisbezorgd.nl v...|MQCLTA 0030009371...|\n",
      "|2022-01-26 00:00:00|2022-01-27 00:00:00|-1207.0|NL38BUNQ2064666400|  NL95RABO0314621822|     BPD Woningfonds|Eef kamerbeekstra...|\n",
      "|2022-01-26 00:00:00|2022-01-26 00:00:00|  -34.9|NL38BUNQ2064666400|  NL17DEUT0265262879|Barnwoodweb by Mu...|557397999 1151000...|\n",
      "|2022-01-26 00:00:00|2022-01-26 00:00:00|  -10.9|NL38BUNQ2064666400|  NL35RABO0117713678|Paint-discount vi...|1678166106X3a89e ...|\n",
      "|2022-01-27 00:00:00|2022-01-27 00:00:00|  -18.4|NL38BUNQ2064666400|                null|   CCV*KA Sloterdijk|CCV*KA Sloterdijk...|\n",
      "|2022-01-27 00:00:00|2022-01-27 00:00:00|  -4.75|NL38BUNQ2064666400|                null|HEMA EV2150 A'DAM CS|HEMA EV2150 A'DAM...|\n",
      "|2022-01-27 00:00:00|2022-01-27 00:00:00|  -27.4|NL38BUNQ2064666400|                null|CCV*AMSTERDAM CEN...|CCV*AMSTERDAM CEN...|\n",
      "|2022-01-28 00:00:00|2022-01-28 00:00:00|  -5.18|NL38BUNQ2064666400|                null|   ALBERT HEIJN 2211|ALBERT HEIJN 2211...|\n",
      "|2022-01-28 00:00:00|2022-01-28 00:00:00|  -2.25|NL38BUNQ2064666400|                null|   ALBERT HEIJN 2211|ALBERT HEIJN 2211...|\n",
      "|2022-01-28 00:00:00|2022-01-28 00:00:00|   -4.1|NL38BUNQ2064666400|                null|     Zneckbar V.O.F.|Zneckbar V.O.F. A...|\n",
      "|2022-01-29 00:00:00|2022-01-29 00:00:00|  -14.7|NL38BUNQ2064666400|  NL55DEUT0319826538|De Wasserette Ete...|3325010605 115000...|\n",
      "|2022-01-29 00:00:00|2022-01-29 00:00:00|  -11.2|NL38BUNQ2064666400|                null|CCV*V.O.F. J.H. v...|CCV*V.O.F. J.H. v...|\n",
      "|2022-01-29 00:00:00|2022-01-29 00:00:00|  -11.0|NL38BUNQ2064666400|                null|   CCV*C. Tol & Zoon|CCV*C. Tol & Zoon...|\n",
      "|2022-01-29 00:00:00|2022-01-29 00:00:00| -37.05|NL38BUNQ2064666400|                null|        Vomar IJburg|Vomar IJburg AMST...|\n",
      "|2022-01-29 00:00:00|2022-01-29 00:00:00|  -2.45|NL38BUNQ2064666400|                null|   ALBERT HEIJN 1493|ALBERT HEIJN 1493...|\n",
      "|2022-01-30 00:00:00|2022-01-30 00:00:00| -22.48|NL38BUNQ2064666400|DE392022080000931...|Amazon Payments E...|2X6F43Q 014000040...|\n",
      "|2022-01-31 00:00:00|2022-01-31 00:00:00|  -4.19|NL38BUNQ2064666400|                null|   ALBERT HEIJN 2211|ALBERT HEIJN 2211...|\n",
      "|2022-01-31 00:00:00|2022-01-31 00:00:00|  -13.5|NL38BUNQ2064666400|                null|Bagels & Beans IJ...|Bagels & Beans IJ...|\n",
      "|2022-01-31 00:00:00|2022-01-31 00:00:00| -42.38|NL38BUNQ2064666400|                null|         Action 1374|Action 1374 Amste...|\n",
      "|2022-01-31 00:00:00|2022-01-31 00:00:00| -37.25|NL38BUNQ2064666400|  NL31ABNA0494688556|Thuisbezorgd.nl v...|R8LEWZ 0030009423...|\n",
      "|2022-02-01 00:00:00|2022-02-01 00:00:00|   0.15|NL38BUNQ2064666400|  NL33BUNQ2067899597|                bunq|    Interest payment|\n",
      "|2022-02-01 00:00:00|2022-02-01 00:00:00|  -4.28|NL38BUNQ2064666400|                null|   ALBERT HEIJN 2211|ALBERT HEIJN 2211...|\n",
      "|2022-02-01 00:00:00|2022-02-02 00:00:00| -550.0|NL38BUNQ2064666400|GB90ABBY090128056...|       Nomzamo Ncube|                null|\n",
      "|2022-02-02 00:00:00|2022-02-01 00:00:00|  -75.0|NL38BUNQ2064666400|  NL54INGB0000000503|Vattenfall Klante...|519603539140 Fact...|\n",
      "|2022-02-02 00:00:00|2022-02-01 00:00:00|-229.76|NL38BUNQ2064666400|  NL64ABNA0240542045|DITZO ZORGVERZEKE...|Kenmerk  14687745...|\n",
      "|2022-02-02 00:00:00|2022-02-02 00:00:00|   -3.9|NL38BUNQ2064666400|                null|      SEP*BLUEYS Bar|SEP*BLUEYS Bar Am...|\n",
      "|2022-02-02 00:00:00|2022-02-02 00:00:00|  -1.97|NL38BUNQ2064666400|                null|   ALBERT HEIJN 2211|ALBERT HEIJN 2211...|\n",
      "|2022-02-02 00:00:00|2022-02-02 00:00:00|  -15.0|NL38BUNQ2064666400|                null|      St. James Gate|St. James Gate Am...|\n",
      "|2022-02-02 00:00:00|2022-02-02 00:00:00| -36.95|NL38BUNQ2064666400|DE392022080000931...|Amazon Payments E...|2RRZKWP 014000040...|\n",
      "|2022-02-03 00:00:00|2022-02-03 00:00:00|  -7.07|NL38BUNQ2064666400|                null|   ALBERT HEIJN 2211|ALBERT HEIJN 2211...|\n",
      "|2022-02-03 00:00:00|2022-02-03 00:00:00|  -44.0|NL38BUNQ2064666400|  NL75RABO0105845590|Trainmore Piet He...|01-02-2022 / 28-0...|\n",
      "|2022-02-04 00:00:00|2022-02-04 00:00:00| -500.0|NL38BUNQ2064666400|GB90ABBY090128056...|       Nomzamo Ncube|                null|\n",
      "|2022-02-04 00:00:00|2022-02-04 00:00:00|   -3.0|NL38BUNQ2064666400|                null|   ALBERT HEIJN 2211|ALBERT HEIJN 2211...|\n",
      "|2022-02-04 00:00:00|2022-02-04 00:00:00|  -1.79|NL38BUNQ2064666400|                null|   ALBERT HEIJN 2211|ALBERT HEIJN 2211...|\n",
      "|2022-02-04 00:00:00|2022-02-04 00:00:00|  -20.0|NL38BUNQ2064666400|  NL62ABNA0462625036|BUDGET MOB HOL VH...|O226688091/+31610...|\n",
      "|2022-02-04 00:00:00|2022-02-04 00:00:00|  -6.61|NL38BUNQ2064666400|                null|         Action 1374|Action 1374 Amste...|\n",
      "|2022-02-04 00:00:00|2022-02-04 00:00:00|   -7.0|NL38BUNQ2064666400|                null|Visgilde IJburg Adam|Visgilde IJburg A...|\n",
      "|2022-02-04 00:00:00|2022-02-04 00:00:00| -37.62|NL38BUNQ2064666400|                null|        Vomar IJburg|Vomar IJburg AMST...|\n",
      "|2022-02-04 00:00:00|2022-02-04 00:00:00|  37.62|NL38BUNQ2064666400|                null|        Vomar IJburg|Refund: Vomar IJb...|\n",
      "|2022-02-04 00:00:00|2022-02-04 00:00:00|   -1.2|NL38BUNQ2064666400|                null|Visgilde IJburg Adam|Visgilde IJburg A...|\n",
      "|2022-02-04 00:00:00|2022-02-04 00:00:00| -37.62|NL38BUNQ2064666400|                null|        Vomar IJburg|Vomar IJburg AMST...|\n",
      "|2022-02-05 00:00:00|2022-02-05 00:00:00| -22.55|NL38BUNQ2064666400|                null|CCV*VOF BAKERS EN...|CCV*VOF BAKERS EN...|\n",
      "|2022-02-05 00:00:00|2022-02-05 00:00:00|  -20.0|NL38BUNQ2064666400|  NL26INGB0006865503|Reggae Rita's by ...|I220205193448157C...|\n",
      "|2022-02-05 00:00:00|2022-02-05 00:00:00|   -3.5|NL38BUNQ2064666400|  NL26INGB0006865503|Reggae Rita's by ...|I220205202725431C...|\n",
      "|2022-02-06 00:00:00|2022-02-06 00:00:00| -15.71|NL38BUNQ2064666400|                null|           Etos 7590|Etos 7590 AMSTERD...|\n",
      "|2022-02-06 00:00:00|2022-02-06 00:00:00|   -0.1|NL38BUNQ2064666400|                null|           Etos 7590|Etos 7590 AMSTERD...|\n",
      "|2022-02-07 00:00:00|2022-02-07 00:00:00|  -87.0|NL38BUNQ2064666400|  NL18INGB0005309282|         GREENCHOICE|Uw termijnnota me...|\n",
      "|2022-02-07 00:00:00|2022-02-07 00:00:00|-315.26|NL38BUNQ2064666400|  NL04ADYB2017400157|              Airbnb|FZV38WFKNHBBFF32J...|\n",
      "|2022-02-08 00:00:00|2022-02-08 00:00:00|  -12.0|NL38BUNQ2064666400|  NL60RABO0110022777|Waternet/Gem. Ams...|Klant: 1020036058...|\n",
      "|2022-02-08 00:00:00|2022-02-08 00:00:00| -385.0|NL38BUNQ2064666400|                null|  Pott Change Damrak|Pott Change Damra...|\n",
      "|2022-02-08 00:00:00|2022-02-08 00:00:00|  -43.3|NL38BUNQ2064666400|                null|      PRIMARK DAMRAK|PRIMARK DAMRAK AM...|\n",
      "|2022-02-08 00:00:00|2022-02-08 00:00:00|  -6.92|NL38BUNQ2064666400|                null|        vanHaren 070|vanHaren 070 AMST...|\n",
      "|2022-02-08 00:00:00|2022-02-08 00:00:00| -29.66|NL38BUNQ2064666400|                null|       Kruidvat 7076|Kruidvat 7076 AMS...|\n",
      "|2022-02-08 00:00:00|2022-02-08 00:00:00| -103.2|NL38BUNQ2064666400|                null|        De Bijenkorf|De Bijenkorf Amst...|\n",
      "|2022-02-08 00:00:00|2022-02-08 00:00:00| -12.49|NL38BUNQ2064666400|                null|           ETOS 7763|ETOS 7763 AMSTERD...|\n",
      "|2022-02-08 00:00:00|2022-02-08 00:00:00| -79.95|NL38BUNQ2064666400|  NL56DEUT0265186420|TicketCounter B.V...|C0001853320 10300...|\n",
      "|2022-02-09 00:00:00|2022-02-09 00:00:00|  -0.21|NL38BUNQ2064666400|                null|   ALBERT HEIJN 2211|ALBERT HEIJN 2211...|\n",
      "|2022-02-10 00:00:00|2022-02-10 00:00:00|  20.68|NL38BUNQ2064666400|  NL18INGB0005309282|         GREENCHOICE|Uw nota met notan...|\n",
      "|2022-02-10 00:00:00|2022-02-10 00:00:00|  -5.25|NL38BUNQ2064666400|                null|HMS Host Internat...|HMS Host Internat...|\n",
      "|2022-02-13 00:00:00|2022-02-13 00:00:00| -12.87|NL38BUNQ2064666400|                null|Dischem Fourways ...|Dischem Fourways ...|\n",
      "|2022-02-13 00:00:00|2022-02-13 00:00:00| -13.41|NL38BUNQ2064666400|                null|   Foschini Fourways|Foschini Fourways...|\n",
      "|2022-02-13 00:00:00|2022-02-13 00:00:00| -58.56|NL38BUNQ2064666400|                null|V112-EDG FOURWAYS...|V112-EDG FOURWAYS...|\n",
      "|2022-02-13 00:00:00|2022-02-13 00:00:00|   -5.8|NL38BUNQ2064666400|                null|Incredible Connec...|Incredible Connec...|\n",
      "|2022-02-13 00:00:00|2022-02-13 00:00:00| -58.56|NL38BUNQ2064666400|                null|Standard Bank of ...|Standard Bank of ...|\n",
      "|2022-02-13 00:00:00|2022-02-13 00:00:00|  -9.08|NL38BUNQ2064666400|                null| WICKLEYS GRILLHOUSE|WICKLEYS GRILLHOU...|\n",
      "|2022-02-13 00:00:00|2022-02-13 00:00:00|  -7.02|NL38BUNQ2064666400|                null| WICKLEYS GRILLHOUSE|WICKLEYS GRILLHOU...|\n",
      "|2022-02-14 00:00:00|2022-02-14 00:00:00| -29.29|NL38BUNQ2064666400|                null|     AMPATH FOURWAYS|AMPATH FOURWAYS M...|\n",
      "|2022-02-14 00:00:00|2022-02-14 00:00:00|  -7.88|NL38BUNQ2064666400|                null|    Clicks Dairnfern|Clicks Dairnfern ...|\n",
      "|2022-02-14 00:00:00|2022-02-14 00:00:00| -20.44|NL38BUNQ2064666400|                null|Yoco   *Tashako H...|Yoco   *Tashako H...|\n",
      "|2022-02-14 00:00:00|2022-02-14 00:00:00| -15.46|NL38BUNQ2064666400|                null|      ALTITUDE BEACH|ALTITUDE BEACH Jo...|\n",
      "|2022-02-14 00:00:00|2022-02-14 00:00:00| -21.37|NL38BUNQ2064666400|                null|      ALTITUDE BEACH|ALTITUDE BEACH Jo...|\n",
      "|2022-02-15 00:00:00|2022-02-15 00:00:00|  -2.77|NL38BUNQ2064666400|  NL16ABNA0246063858|               DITZO|7585397304 Premie...|\n",
      "|2022-02-15 00:00:00|2022-02-15 00:00:00| -28.93|NL38BUNQ2064666400|                null|        MONTEXO SPUR|MONTEXO SPUR JOHA...|\n",
      "|2022-02-15 00:00:00|2022-02-15 00:00:00|  -9.88|NL38BUNQ2064666400|                null|WELLNESS WAREHOUS...|WELLNESS WAREHOUS...|\n",
      "|2022-02-15 00:00:00|2022-02-15 00:00:00|  -1.72|NL38BUNQ2064666400|                null|PnP Crp Deinfern ...|PnP Crp Deinfern ...|\n",
      "|2022-02-18 00:00:00|2022-02-17 00:00:00|  -11.0|NL38BUNQ2064666400|  NL06RABO0306498413|TLS/KlantenservOV...|Betaling OV-chipk...|\n",
      "|2022-02-19 00:00:00|2022-02-19 00:00:00|  -8.99|NL38BUNQ2064666400|  NL89BUNQ2025105584|                bunq|     invoice 7739222|\n",
      "|2022-02-20 00:00:00|2022-02-20 00:00:00| -14.75|NL38BUNQ2064666400|GB16TCCL041404401...|            N. Ncube|Currency Conversi...|\n",
      "|2022-02-24 00:00:00|2022-02-24 00:00:00|3682.34|NL38BUNQ2064666400|  NL22BNPA0227661567|     EMAKINA.NL B.V.|Salaris Februari ...|\n",
      "|2022-02-24 00:00:00|2022-02-23 00:00:00|  -35.0|NL38BUNQ2064666400|  NL95COBA0637055934| T-MOBILE THUIS B.V.|T-Mobile Thuis NT...|\n",
      "|2022-02-24 00:00:00|2022-02-24 00:00:00|  -40.0|NL38BUNQ2064666400|  NL82ABNA0568347595|                 KLM|GT9W8SRRHMSWZP52 ...|\n",
      "|2022-02-28 00:00:00|2022-02-28 00:00:00|-156.57|NL38BUNQ2064666400|                null|Yoco   *Weaver Tours|Yoco   *Weaver To...|\n",
      "|2022-02-28 00:00:00|2022-02-28 00:00:00| -53.99|NL38BUNQ2064666400|  NL14ABNA0576850675|NS GROEP IZ NS RE...|Factuur: 42000556...|\n",
      "|2022-03-01 00:00:00|2022-03-01 00:00:00|   0.09|NL38BUNQ2064666400|  NL90BUNQ2068598523|                bunq|    Interest payment|\n",
      "+-------------------+-------------------+-------+------------------+--------------------+--------------------+--------------------+\n",
      "only showing top 100 rows\n",
      "\n"
     ]
    }
   ],
   "source": [
    "df_bunq.show(100)"
   ]
  },
  {
   "cell_type": "code",
   "execution_count": 23,
   "id": "68546f8d-43f0-43a4-aeb6-8013d18251ef",
   "metadata": {},
   "outputs": [
    {
     "ename": "NameError",
     "evalue": "name 'df_capital' is not defined",
     "output_type": "error",
     "traceback": [
      "\u001b[1;31m---------------------------------------------------------------------------\u001b[0m",
      "\u001b[1;31mNameError\u001b[0m                                 Traceback (most recent call last)",
      "Input \u001b[1;32mIn [23]\u001b[0m, in \u001b[0;36m<cell line: 1>\u001b[1;34m()\u001b[0m\n\u001b[1;32m----> 1\u001b[0m \u001b[43mdf_capital\u001b[49m\u001b[38;5;241m.\u001b[39mshow()\n",
      "\u001b[1;31mNameError\u001b[0m: name 'df_capital' is not defined"
     ]
    }
   ],
   "source": [
    "df_capital.show()"
   ]
  },
  {
   "cell_type": "code",
   "execution_count": null,
   "id": "1b2cdd70-5641-44e8-915d-22ff1f23bad8",
   "metadata": {},
   "outputs": [],
   "source": [
    "x=df_bunq.groupby(df_bunq['Name']).sum('Amount')"
   ]
  },
  {
   "cell_type": "code",
   "execution_count": null,
   "id": "a7554764-1fe6-48da-9b22-fa8dae1147c9",
   "metadata": {},
   "outputs": [],
   "source": [
    "y=x.filter('sum(Amount) < 0').orderBy(['sum(Amount)'], ascending = [True])"
   ]
  },
  {
   "cell_type": "code",
   "execution_count": null,
   "id": "ccfad817-e211-483b-a241-5c19b7cce91c",
   "metadata": {},
   "outputs": [],
   "source": [
    "df_bunq.printSchema()"
   ]
  },
  {
   "cell_type": "code",
   "execution_count": null,
   "id": "edfc3794-8a2a-4274-8b10-924209c8b66d",
   "metadata": {},
   "outputs": [],
   "source": [
    "y.show(200)"
   ]
  },
  {
   "cell_type": "code",
   "execution_count": null,
   "id": "ad9d0ee6-f2cd-4184-99ff-b4481c0990a6",
   "metadata": {},
   "outputs": [],
   "source": []
  }
 ],
 "metadata": {
  "kernelspec": {
   "display_name": "Python 3 (ipykernel)",
   "language": "python",
   "name": "python3"
  },
  "language_info": {
   "codemirror_mode": {
    "name": "ipython",
    "version": 3
   },
   "file_extension": ".py",
   "mimetype": "text/x-python",
   "name": "python",
   "nbconvert_exporter": "python",
   "pygments_lexer": "ipython3",
   "version": "3.10.6"
  }
 },
 "nbformat": 4,
 "nbformat_minor": 5
}
