{
 "cells": [
  {
   "cell_type": "markdown",
   "id": "1b2f1889-a5d8-4af1-9d29-c1666c93d8c2",
   "metadata": {},
   "source": [
    "# INGEST STATEMENT-BUNQ"
   ]
  },
  {
   "cell_type": "code",
   "execution_count": 1,
   "id": "82b6f9db-0ec2-48c0-941d-3ee221c06d61",
   "metadata": {},
   "outputs": [],
   "source": [
    "import import_ipynb"
   ]
  },
  {
   "cell_type": "code",
   "execution_count": 2,
   "id": "7ee00dc9-f5c6-4c1e-a970-35c001c05e65",
   "metadata": {},
   "outputs": [
    {
     "name": "stdout",
     "output_type": "stream",
     "text": [
      "importing Jupyter notebook from C:\\Users\\nomnc\\OneDrive\\.ipynb_checkpoints\\modules\\ingest_statement.ipynb\n"
     ]
    }
   ],
   "source": [
    "from modules.ingest_statement import *"
   ]
  },
  {
   "cell_type": "code",
   "execution_count": 3,
   "id": "dbded8a8-d961-4a44-917c-8ecb22b2d44f",
   "metadata": {},
   "outputs": [],
   "source": [
    "X=create_onedrive_directdownload('https://1drv.ms/x/s!AiVkYGtq2xelg8Qdj0pRi33vVMMzag?e=TpHMBp')"
   ]
  },
  {
   "cell_type": "markdown",
   "id": "43da5ef0-edea-4368-b511-9ccdeb690644",
   "metadata": {},
   "source": [
    "## Read bunq file"
   ]
  },
  {
   "cell_type": "code",
   "execution_count": 4,
   "id": "7e7ddda2-593d-46ea-aa7d-132d11a8c1f9",
   "metadata": {
    "tags": []
   },
   "outputs": [],
   "source": [
    "bunq_tbl=read_file(X)"
   ]
  },
  {
   "cell_type": "markdown",
   "id": "ff01a1e0-d74d-405b-a072-d9a2140f9a0b",
   "metadata": {},
   "source": [
    "## Convert columns to lower case"
   ]
  },
  {
   "cell_type": "code",
   "execution_count": 5,
   "id": "5772d40d-429d-4bf3-9b57-05dcd580687b",
   "metadata": {},
   "outputs": [],
   "source": [
    "for col in bunq_tbl.columns:\n",
    "    bunq_tbl = bunq_tbl.withColumnRenamed(col, col.lower())"
   ]
  },
  {
   "cell_type": "markdown",
   "id": "4d9bd061-c371-4dfd-b072-1afcdcc33595",
   "metadata": {},
   "source": [
    "## Drop  'interest,account and counterparty' attributes"
   ]
  },
  {
   "cell_type": "code",
   "execution_count": 6,
   "id": "2f0246ec-c21c-4f22-94f1-1b4145e198c1",
   "metadata": {
    "tags": []
   },
   "outputs": [],
   "source": [
    "bunq_tbl=bunq_tbl.drop('interest date','account','counterparty')"
   ]
  },
  {
   "cell_type": "code",
   "execution_count": 7,
   "id": "f71b0cf2-3f08-4f0f-9701-0655da10060d",
   "metadata": {},
   "outputs": [],
   "source": [
    "from pyspark.sql.functions import when,lit"
   ]
  },
  {
   "cell_type": "markdown",
   "id": "88b86af2-577a-4c23-9164-2d5128d8bc94",
   "metadata": {},
   "source": [
    "## Create 'money_out' attribute"
   ]
  },
  {
   "cell_type": "code",
   "execution_count": 8,
   "id": "52459456-4674-46a7-b02e-e0ac88b4a4b3",
   "metadata": {},
   "outputs": [],
   "source": [
    "bunq_tbl=bunq_tbl.withColumn(\"money_out\", \\\n",
    "              when((bunq_tbl.amount < 0),lit(bunq_tbl.amount)) \\\n",
    "              .otherwise(lit(''))\\\n",
    "             )"
   ]
  },
  {
   "cell_type": "markdown",
   "id": "7907595f-8a04-4a51-abdc-2cf2e35c7d85",
   "metadata": {},
   "source": [
    "## Create 'money_in' attribute"
   ]
  },
  {
   "cell_type": "code",
   "execution_count": 9,
   "id": "75325296-674c-4e4d-a5bd-bcdb72ffc8dd",
   "metadata": {},
   "outputs": [],
   "source": [
    "bunq_tbl=bunq_tbl.withColumn(\"money_in\", \\\n",
    "              when((bunq_tbl.amount > 0),lit(bunq_tbl.amount)) \\\n",
    "              .otherwise(lit(''))\\\n",
    "             )"
   ]
  },
  {
   "cell_type": "markdown",
   "id": "030ca8eb-864d-444d-93a0-0a1802cc25d3",
   "metadata": {
    "tags": []
   },
   "source": [
    "## Drop 'amount' attribute"
   ]
  },
  {
   "cell_type": "code",
   "execution_count": 10,
   "id": "7b460d0e-becc-4561-b157-6fc84d5ca8a4",
   "metadata": {},
   "outputs": [],
   "source": [
    "bunq_tbl=bunq_tbl.drop('amount')"
   ]
  },
  {
   "cell_type": "code",
   "execution_count": 11,
   "id": "ada10a07-e323-4767-90f1-940a53f7f501",
   "metadata": {},
   "outputs": [
    {
     "name": "stdout",
     "output_type": "stream",
     "text": [
      "+-------------------+--------------------+--------------------+---------+--------+\n",
      "|               date|                name|         description|money_out|money_in|\n",
      "+-------------------+--------------------+--------------------+---------+--------+\n",
      "|2022-01-01 00:00:00|                bunq|    Interest payment|         |    0.09|\n",
      "|2022-01-03 00:00:00|Vattenfall Klante...|515403848746 Fact...|    -75.0|        |\n",
      "|2022-01-04 00:00:00|       Nomzamo Ncube|                null|   -300.0|        |\n",
      "|2022-01-05 00:00:00|       BUDGET MOBIEL|O226496421/+31610...|    -15.0|        |\n",
      "|2022-01-06 00:00:00|         GREENCHOICE|Uw termijnnota me...|    -43.0|        |\n",
      "|2022-01-06 00:00:00|Trainmore Piet He...|01-01-2022 / 31-0...|    -44.0|        |\n",
      "|2022-01-11 00:00:00|       Nomzamo Ncube|                null|   -250.0|        |\n",
      "|2022-01-13 00:00:00|       NS Groep N.V.|R010210190054 003...|     -5.1|        |\n",
      "|2022-01-17 00:00:00|               DITZO|7585397304 Premie...|    -2.77|        |\n",
      "|2022-01-19 00:00:00|                bunq|     invoice 7484677|    -8.99|        |\n",
      "|2022-01-23 00:00:00|DHL International...|21536643783 00300...|   -70.91|        |\n",
      "|2022-01-23 00:00:00|     NS-Schiphol 212|NS-Schiphol 212 L...|     -5.7|        |\n",
      "|2022-01-24 00:00:00|   ALBERT HEIJN 2211|ALBERT HEIJN 2211...|   -14.51|        |\n",
      "|2022-01-24 00:00:00|     EMAKINA.NL B.V.|Salaris Januari 2022|         | 3679.74|\n",
      "|2022-01-26 00:00:00| T-MOBILE THUIS B.V.|T-Mobile Thuis NT...|    -35.0|        |\n",
      "|2022-01-26 00:00:00|   ALBERT HEIJN 2211|ALBERT HEIJN 2211...|    -9.92|        |\n",
      "|2022-01-26 00:00:00|Thuisbezorgd.nl v...|MQCLTA 0030009371...|   -18.14|        |\n",
      "|2022-01-26 00:00:00|     BPD Woningfonds|Eef kamerbeekstra...|  -1207.0|        |\n",
      "|2022-01-26 00:00:00|Barnwoodweb by Mu...|557397999 1151000...|    -34.9|        |\n",
      "|2022-01-26 00:00:00|Paint-discount vi...|1678166106X3a89e ...|    -10.9|        |\n",
      "+-------------------+--------------------+--------------------+---------+--------+\n",
      "only showing top 20 rows\n",
      "\n"
     ]
    }
   ],
   "source": [
    "bunq_tbl.show()"
   ]
  },
  {
   "cell_type": "code",
   "execution_count": null,
   "id": "43d8ec9c-11e3-4b51-9f67-fe10eab72a37",
   "metadata": {},
   "outputs": [],
   "source": []
  },
  {
   "cell_type": "markdown",
   "id": "dee0a64e-e312-4629-8c4b-948cc78315b9",
   "metadata": {},
   "source": [
    "## Rename 'name' to merchant"
   ]
  },
  {
   "cell_type": "code",
   "execution_count": 12,
   "id": "4199157a-878b-4d27-a731-04135fc363a7",
   "metadata": {
    "tags": []
   },
   "outputs": [],
   "source": [
    "bunq_tbl=bunq_tbl.withColumnRenamed('name','merchant')"
   ]
  },
  {
   "cell_type": "markdown",
   "id": "c393df5f-8aa3-4ac9-a0dd-b90571b54806",
   "metadata": {},
   "source": [
    "## add buffer attributes to prepare for union"
   ]
  },
  {
   "cell_type": "code",
   "execution_count": 16,
   "id": "af422b01-dd16-454c-b3e3-bbdf576f510e",
   "metadata": {},
   "outputs": [
    {
     "ename": "AttributeError",
     "evalue": "'NoneType' object has no attribute 'select'",
     "output_type": "error",
     "traceback": [
      "\u001b[1;31m---------------------------------------------------------------------------\u001b[0m",
      "\u001b[1;31mAttributeError\u001b[0m                            Traceback (most recent call last)",
      "Input \u001b[1;32mIn [16]\u001b[0m, in \u001b[0;36m<cell line: 1>\u001b[1;34m()\u001b[0m\n\u001b[1;32m----> 1\u001b[0m bunq_tbl\u001b[38;5;241m=\u001b[39m\u001b[43mbunq_tbl\u001b[49m\u001b[38;5;241;43m.\u001b[39;49m\u001b[43mselect\u001b[49m(\n\u001b[0;32m      2\u001b[0m \u001b[38;5;124m\"\u001b[39m\u001b[38;5;124mdate\u001b[39m\u001b[38;5;124m\"\u001b[39m,\n\u001b[0;32m      3\u001b[0m \u001b[38;5;124m\"\u001b[39m\u001b[38;5;124mmerchant\u001b[39m\u001b[38;5;124m\"\u001b[39m,\n\u001b[0;32m      4\u001b[0m \u001b[38;5;124m\"\u001b[39m\u001b[38;5;124mdescription\u001b[39m\u001b[38;5;124m\"\u001b[39m,\n\u001b[0;32m      5\u001b[0m \u001b[38;5;124m\"\u001b[39m\u001b[38;5;124mmoney_out\u001b[39m\u001b[38;5;124m\"\u001b[39m,\n\u001b[0;32m      6\u001b[0m \u001b[38;5;124m\"\u001b[39m\u001b[38;5;124mmoney_in\u001b[39m\u001b[38;5;124m\"\u001b[39m,\n\u001b[0;32m      7\u001b[0m lit(\u001b[38;5;124m'\u001b[39m\u001b[38;5;124mbunq\u001b[39m\u001b[38;5;124m'\u001b[39m)\u001b[38;5;241m.\u001b[39malias(\u001b[38;5;124m\"\u001b[39m\u001b[38;5;124maccount\u001b[39m\u001b[38;5;124m\"\u001b[39m),\n\u001b[0;32m      8\u001b[0m lit(\u001b[38;5;124m'\u001b[39m\u001b[38;5;124m'\u001b[39m)\u001b[38;5;241m.\u001b[39malias(\u001b[38;5;124m\"\u001b[39m\u001b[38;5;124mspending_category\u001b[39m\u001b[38;5;124m\"\u001b[39m),\n\u001b[0;32m      9\u001b[0m lit(\u001b[38;5;124m'\u001b[39m\u001b[38;5;124m'\u001b[39m)\u001b[38;5;241m.\u001b[39malias(\u001b[38;5;124m\"\u001b[39m\u001b[38;5;124mtype\u001b[39m\u001b[38;5;124m\"\u001b[39m),\n\u001b[0;32m     10\u001b[0m lit(\u001b[38;5;124m'\u001b[39m\u001b[38;5;124m'\u001b[39m)\u001b[38;5;241m.\u001b[39malias(\u001b[38;5;124m\"\u001b[39m\u001b[38;5;124moriginal_currency_amount\u001b[39m\u001b[38;5;124m\"\u001b[39m),\n\u001b[0;32m     11\u001b[0m lit(\u001b[38;5;124m'\u001b[39m\u001b[38;5;124m'\u001b[39m)\u001b[38;5;241m.\u001b[39malias(\u001b[38;5;124m\"\u001b[39m\u001b[38;5;124mcurrency\u001b[39m\u001b[38;5;124m\"\u001b[39m),\n\u001b[0;32m     12\u001b[0m lit(\u001b[38;5;124m'\u001b[39m\u001b[38;5;124m'\u001b[39m)\u001b[38;5;241m.\u001b[39malias(\u001b[38;5;124m\"\u001b[39m\u001b[38;5;124mconversion_rate\u001b[39m\u001b[38;5;124m\"\u001b[39m),\n\u001b[0;32m     13\u001b[0m lit(\u001b[38;5;124m'\u001b[39m\u001b[38;5;124m'\u001b[39m)\u001b[38;5;241m.\u001b[39malias(\u001b[38;5;124m\"\u001b[39m\u001b[38;5;124mmerchant_town\u001b[39m\u001b[38;5;124m\"\u001b[39m),\n\u001b[0;32m     14\u001b[0m lit(\u001b[38;5;124m'\u001b[39m\u001b[38;5;124m'\u001b[39m)\u001b[38;5;241m.\u001b[39malias(\u001b[38;5;124m\"\u001b[39m\u001b[38;5;124mmerchant_postcode\u001b[39m\u001b[38;5;124m\"\u001b[39m),\n\u001b[0;32m     15\u001b[0m lit(\u001b[38;5;124m'\u001b[39m\u001b[38;5;124m'\u001b[39m)\u001b[38;5;241m.\u001b[39malias(\u001b[38;5;124m\"\u001b[39m\u001b[38;5;124mmerchant_country\u001b[39m\u001b[38;5;124m\"\u001b[39m)\n\u001b[0;32m     16\u001b[0m )\n",
      "\u001b[1;31mAttributeError\u001b[0m: 'NoneType' object has no attribute 'select'"
     ]
    }
   ],
   "source": [
    "bunq_tbl=bunq_tbl.select(\n",
    "\"date\",\n",
    "\"merchant\",\n",
    "\"description\",\n",
    "\"money_out\",\n",
    "\"money_in\",\n",
    "lit('bunq').alias(\"account\"),\n",
    "lit('').alias(\"spending_category\"),\n",
    "lit('').alias(\"type\"),\n",
    "lit('').alias(\"original_currency_amount\"),\n",
    "lit('').alias(\"currency\"),\n",
    "lit('').alias(\"conversion_rate\"),\n",
    "lit('').alias(\"merchant_town\"),\n",
    "lit('').alias(\"merchant_postcode\"),\n",
    "lit('').alias(\"merchant_country\")\n",
    ")"
   ]
  },
  {
   "cell_type": "code",
   "execution_count": null,
   "id": "c4723c12-42b2-4e4a-9029-b6c2279d9635",
   "metadata": {},
   "outputs": [],
   "source": []
  }
 ],
 "metadata": {
  "kernelspec": {
   "display_name": "Python 3 (ipykernel)",
   "language": "python",
   "name": "python3"
  },
  "language_info": {
   "codemirror_mode": {
    "name": "ipython",
    "version": 3
   },
   "file_extension": ".py",
   "mimetype": "text/x-python",
   "name": "python",
   "nbconvert_exporter": "python",
   "pygments_lexer": "ipython3",
   "version": "3.10.6"
  }
 },
 "nbformat": 4,
 "nbformat_minor": 5
}
