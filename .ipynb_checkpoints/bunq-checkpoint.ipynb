{
 "cells": [
  {
   "cell_type": "markdown",
   "id": "1b2f1889-a5d8-4af1-9d29-c1666c93d8c2",
   "metadata": {},
   "source": [
    "# INGEST STATEMENT-BUNQ"
   ]
  },
  {
   "cell_type": "code",
   "execution_count": 1,
   "id": "82b6f9db-0ec2-48c0-941d-3ee221c06d61",
   "metadata": {},
   "outputs": [],
   "source": [
    "import import_ipynb"
   ]
  },
  {
   "cell_type": "code",
   "execution_count": 2,
   "id": "7ee00dc9-f5c6-4c1e-a970-35c001c05e65",
   "metadata": {},
   "outputs": [
    {
     "name": "stdout",
     "output_type": "stream",
     "text": [
      "importing Jupyter notebook from C:\\Users\\nomnc\\OneDrive\\.ipynb_checkpoints\\modules\\ingest_statement.ipynb\n"
     ]
    }
   ],
   "source": [
    "from modules.ingest_statement import *"
   ]
  },
  {
   "cell_type": "code",
   "execution_count": 3,
   "id": "dbded8a8-d961-4a44-917c-8ecb22b2d44f",
   "metadata": {},
   "outputs": [],
   "source": [
    "X=create_onedrive_directdownload('https://1drv.ms/x/s!AiVkYGtq2xelg8Qdj0pRi33vVMMzag?e=TpHMBp')"
   ]
  },
  {
   "cell_type": "markdown",
   "id": "43da5ef0-edea-4368-b511-9ccdeb690644",
   "metadata": {},
   "source": [
    "## Read bunq file"
   ]
  },
  {
   "cell_type": "code",
   "execution_count": 4,
   "id": "7e7ddda2-593d-46ea-aa7d-132d11a8c1f9",
   "metadata": {
    "tags": []
   },
   "outputs": [],
   "source": [
    "bunq_tbl=read_file(X)"
   ]
  },
  {
   "cell_type": "markdown",
   "id": "ff01a1e0-d74d-405b-a072-d9a2140f9a0b",
   "metadata": {},
   "source": [
    "## Convert columns to lower case"
   ]
  },
  {
   "cell_type": "code",
   "execution_count": 5,
   "id": "5772d40d-429d-4bf3-9b57-05dcd580687b",
   "metadata": {},
   "outputs": [],
   "source": [
    "for col in bunq_tbl.columns:\n",
    "    bunq_tbl = bunq_tbl.withColumnRenamed(col, col.lower())"
   ]
  },
  {
   "cell_type": "markdown",
   "id": "4d9bd061-c371-4dfd-b072-1afcdcc33595",
   "metadata": {},
   "source": [
    "## Drop  'interest,account and counterparty' attributes"
   ]
  },
  {
   "cell_type": "code",
   "execution_count": 6,
   "id": "2f0246ec-c21c-4f22-94f1-1b4145e198c1",
   "metadata": {
    "tags": []
   },
   "outputs": [],
   "source": [
    "bunq_tbl=bunq_tbl.drop('interest date','account','counterparty')"
   ]
  },
  {
   "cell_type": "code",
   "execution_count": 7,
   "id": "f71b0cf2-3f08-4f0f-9701-0655da10060d",
   "metadata": {},
   "outputs": [],
   "source": [
    "from pyspark.sql.functions import when,lit"
   ]
  },
  {
   "cell_type": "markdown",
   "id": "88b86af2-577a-4c23-9164-2d5128d8bc94",
   "metadata": {},
   "source": [
    "## Create 'money_out' attribute"
   ]
  },
  {
   "cell_type": "code",
   "execution_count": 8,
   "id": "52459456-4674-46a7-b02e-e0ac88b4a4b3",
   "metadata": {},
   "outputs": [],
   "source": [
    "bunq_tbl=bunq_tbl.withColumn(\"money_out\", \\\n",
    "              when((bunq_tbl.amount < 0),lit(bunq_tbl.amount*-1)) \\\n",
    "              .otherwise(lit(''))\\\n",
    "             )"
   ]
  },
  {
   "cell_type": "markdown",
   "id": "7907595f-8a04-4a51-abdc-2cf2e35c7d85",
   "metadata": {},
   "source": [
    "## Create 'money_in' attribute"
   ]
  },
  {
   "cell_type": "code",
   "execution_count": 9,
   "id": "75325296-674c-4e4d-a5bd-bcdb72ffc8dd",
   "metadata": {},
   "outputs": [],
   "source": [
    "bunq_tbl=bunq_tbl.withColumn(\"money_in\", \\\n",
    "              when((bunq_tbl.amount > 0),lit(bunq_tbl.amount)) \\\n",
    "              .otherwise(lit(''))\\\n",
    "             )"
   ]
  },
  {
   "cell_type": "markdown",
   "id": "030ca8eb-864d-444d-93a0-0a1802cc25d3",
   "metadata": {
    "tags": []
   },
   "source": [
    "## Drop 'amount' attribute"
   ]
  },
  {
   "cell_type": "code",
   "execution_count": 10,
   "id": "7b460d0e-becc-4561-b157-6fc84d5ca8a4",
   "metadata": {},
   "outputs": [],
   "source": [
    "bunq_tbl=bunq_tbl.drop('amount')"
   ]
  },
  {
   "cell_type": "markdown",
   "id": "dee0a64e-e312-4629-8c4b-948cc78315b9",
   "metadata": {},
   "source": [
    "## Rename 'name' to merchant"
   ]
  },
  {
   "cell_type": "code",
   "execution_count": 11,
   "id": "4199157a-878b-4d27-a731-04135fc363a7",
   "metadata": {
    "tags": []
   },
   "outputs": [],
   "source": [
    "bunq_tbl=bunq_tbl.withColumnRenamed('name','merchant')"
   ]
  },
  {
   "cell_type": "markdown",
   "id": "75cf500e-d56b-4083-acbe-266283971361",
   "metadata": {},
   "source": [
    "## Convert date to timestamp"
   ]
  },
  {
   "cell_type": "code",
   "execution_count": 12,
   "id": "5d5921e2-8560-473d-8acf-a75d04ae07f8",
   "metadata": {},
   "outputs": [],
   "source": [
    "from pyspark.sql import functions as F"
   ]
  },
  {
   "cell_type": "code",
   "execution_count": 13,
   "id": "8a5fa465-10ad-40f9-8166-da9a383408da",
   "metadata": {},
   "outputs": [],
   "source": [
    "\n",
    "bunq_tbl=bunq_tbl.withColumn('date', F.col('date').cast(\"timestamp\"))"
   ]
  },
  {
   "cell_type": "markdown",
   "id": "c393df5f-8aa3-4ac9-a0dd-b90571b54806",
   "metadata": {},
   "source": [
    "## add buffer attributes to prepare for union"
   ]
  },
  {
   "cell_type": "code",
   "execution_count": 14,
   "id": "af422b01-dd16-454c-b3e3-bbdf576f510e",
   "metadata": {},
   "outputs": [],
   "source": [
    "bunq_tbl=bunq_tbl.select(\n",
    "\"date\",\n",
    "\"merchant\",\n",
    "\"description\",\n",
    "\"money_out\",\n",
    "\"money_in\",\n",
    "lit('bunq').alias(\"account\"),\n",
    "lit('NL').alias(\"account_country\"),\n",
    "lit('').alias(\"spending_category\"),\n",
    "lit('').alias(\"type\"),\n",
    "lit('').alias(\"original_currency_amount\"),\n",
    "lit('euro').alias(\"currency\"),\n",
    "lit('').alias(\"conversion_rate\"),\n",
    "lit('').alias(\"merchant_town\"),\n",
    "lit('').alias(\"merchant_postcode\"),\n",
    "lit('').alias(\"merchant_country\")\n",
    ")"
   ]
  },
  {
   "cell_type": "markdown",
   "id": "5b7acdd0-0e33-4895-a6a7-28283e14ef6e",
   "metadata": {},
   "source": [
    "## Correct Data types to prepare for Union"
   ]
  },
  {
   "cell_type": "code",
   "execution_count": 15,
   "id": "20ebb8ae-45fd-4a72-9151-0d33aeb27660",
   "metadata": {},
   "outputs": [],
   "source": [
    "bunq_tbl=bunq_tbl.withColumn(\"original_currency_amount\",bunq_tbl.original_currency_amount.cast('double'))\n",
    "bunq_tbl=bunq_tbl.withColumn(\"conversion_rate\",bunq_tbl.conversion_rate.cast('double'))"
   ]
  },
  {
   "cell_type": "code",
   "execution_count": 16,
   "id": "3865bc86-6048-4f2c-a9a4-d835f609a6d4",
   "metadata": {},
   "outputs": [],
   "source": [
    "from pyspark.sql import functions as F"
   ]
  },
  {
   "cell_type": "code",
   "execution_count": 17,
   "id": "3b24206b-d68b-4349-90e2-7369da4e5e96",
   "metadata": {
    "tags": []
   },
   "outputs": [
    {
     "name": "stdout",
     "output_type": "stream",
     "text": [
      "importing Jupyter notebook from capital_one.ipynb\n",
      "+--------------------+------+--------------+---------+\n",
      "|                date|amount|conversionrate|money_out|\n",
      "+--------------------+------+--------------+---------+\n",
      "|2022-08-22T00:00:00Z| 36.39|           1.0|    36.39|\n",
      "|2022-08-22T00:00:00Z|   2.3|           1.0|      2.3|\n",
      "|2022-08-19T00:00:00Z|   4.6|           1.0|      4.6|\n",
      "|2022-08-19T00:00:00Z| 23.65|           1.0|    23.65|\n",
      "|2022-08-19T00:00:00Z| 26.65|           1.0|    26.65|\n",
      "|2022-08-18T00:00:00Z|   9.0|           1.0|      9.0|\n",
      "|2022-08-18T00:00:00Z|   4.6|           1.0|      4.6|\n",
      "|2022-08-18T00:00:00Z|   1.0|           1.0|      1.0|\n",
      "|2022-08-18T00:00:00Z| 17.96|           1.0|    17.96|\n",
      "|2022-08-18T00:00:00Z|  4.45|           1.0|     4.45|\n",
      "|2022-08-16T00:00:00Z| 23.75|           1.0|    23.75|\n",
      "|2022-08-14T00:00:00Z|  9.99|           1.0|     9.99|\n",
      "|2022-08-13T00:00:00Z|  38.5|           1.0|     38.5|\n",
      "|2022-08-12T00:00:00Z| 41.14|           1.0|    41.14|\n",
      "|2022-08-11T00:00:00Z|  3.95|           1.0|     3.95|\n",
      "|2022-08-11T00:00:00Z|   2.0|           1.0|      2.0|\n",
      "|2022-08-11T00:00:00Z| 17.45|           1.0|    17.45|\n",
      "|2022-08-10T00:00:00Z|  7.31|           1.0|     7.31|\n",
      "|2022-08-10T00:00:00Z|  17.7|           1.0|     17.7|\n",
      "|2022-08-05T00:00:00Z| 19.74|           1.0|    19.74|\n",
      "+--------------------+------+--------------+---------+\n",
      "only showing top 20 rows\n",
      "\n",
      "+-------------------+\n",
      "|               date|\n",
      "+-------------------+\n",
      "|2022-08-22 02:00:00|\n",
      "|2022-08-22 02:00:00|\n",
      "|2022-08-19 02:00:00|\n",
      "|2022-08-19 02:00:00|\n",
      "|2022-08-19 02:00:00|\n",
      "|2022-08-18 02:00:00|\n",
      "|2022-08-18 02:00:00|\n",
      "|2022-08-18 02:00:00|\n",
      "|2022-08-18 02:00:00|\n",
      "|2022-08-18 02:00:00|\n",
      "|2022-08-16 02:00:00|\n",
      "|2022-08-14 02:00:00|\n",
      "|2022-08-13 02:00:00|\n",
      "|2022-08-12 02:00:00|\n",
      "|2022-08-11 02:00:00|\n",
      "|2022-08-11 02:00:00|\n",
      "|2022-08-11 02:00:00|\n",
      "|2022-08-10 02:00:00|\n",
      "|2022-08-10 02:00:00|\n",
      "|2022-08-05 02:00:00|\n",
      "+-------------------+\n",
      "only showing top 20 rows\n",
      "\n",
      "root\n",
      " |-- date: timestamp (nullable = true)\n",
      " |-- merchant: string (nullable = true)\n",
      " |-- description: string (nullable = true)\n",
      " |-- money_out: string (nullable = true)\n",
      " |-- money_in: string (nullable = true)\n",
      " |-- account: string (nullable = false)\n",
      " |-- account_country: string (nullable = false)\n",
      " |-- spending_category: string (nullable = false)\n",
      " |-- type: string (nullable = true)\n",
      " |-- original_currency_amount: double (nullable = true)\n",
      " |-- currency: string (nullable = true)\n",
      " |-- conversion_rate: double (nullable = true)\n",
      " |-- merchant_town: string (nullable = true)\n",
      " |-- merchant_postcode: string (nullable = true)\n",
      " |-- merchant_country: string (nullable = true)\n",
      "\n"
     ]
    }
   ],
   "source": [
    "import capital_one"
   ]
  },
  {
   "cell_type": "code",
   "execution_count": 18,
   "id": "4054c54f-a469-4f5e-8e8e-b7cd13be9c2b",
   "metadata": {},
   "outputs": [
    {
     "name": "stdout",
     "output_type": "stream",
     "text": [
      "root\n",
      " |-- date: timestamp (nullable = true)\n",
      " |-- merchant: string (nullable = true)\n",
      " |-- description: string (nullable = true)\n",
      " |-- money_out: string (nullable = true)\n",
      " |-- money_in: string (nullable = true)\n",
      " |-- account: string (nullable = false)\n",
      " |-- account_country: string (nullable = false)\n",
      " |-- spending_category: string (nullable = false)\n",
      " |-- type: string (nullable = true)\n",
      " |-- original_currency_amount: double (nullable = true)\n",
      " |-- currency: string (nullable = true)\n",
      " |-- conversion_rate: double (nullable = true)\n",
      " |-- merchant_town: string (nullable = true)\n",
      " |-- merchant_postcode: string (nullable = true)\n",
      " |-- merchant_country: string (nullable = true)\n",
      "\n"
     ]
    }
   ],
   "source": [
    "x=capital_one.cap_tbl\n",
    "x.printSchema()"
   ]
  },
  {
   "cell_type": "code",
   "execution_count": 19,
   "id": "c4723c12-42b2-4e4a-9029-b6c2279d9635",
   "metadata": {},
   "outputs": [],
   "source": [
    "tots=bunq_tbl.union(x)"
   ]
  },
  {
   "cell_type": "code",
   "execution_count": 20,
   "id": "98608faf-7ac3-478a-a8be-59b94d11ea9c",
   "metadata": {
    "tags": []
   },
   "outputs": [
    {
     "name": "stdout",
     "output_type": "stream",
     "text": [
      "+-------------------+------------------------------------------------------+------------------------------------------------------------------------------------------------------------------------------+---------+--------+-------+---------------+-----------------+----+------------------------+--------+---------------+-------------+-----------------+----------------+\n",
      "|date               |merchant                                              |description                                                                                                                   |money_out|money_in|account|account_country|spending_category|type|original_currency_amount|currency|conversion_rate|merchant_town|merchant_postcode|merchant_country|\n",
      "+-------------------+------------------------------------------------------+------------------------------------------------------------------------------------------------------------------------------+---------+--------+-------+---------------+-----------------+----+------------------------+--------+---------------+-------------+-----------------+----------------+\n",
      "|2022-01-01 00:00:00|bunq                                                  |Interest payment                                                                                                              |         |0.09    |bunq   |NL             |                 |    |null                    |euro    |null           |             |                 |                |\n",
      "|2022-01-03 00:00:00|Vattenfall Klantenservice N.V.                        |515403848746 Factnr 40050983832 BTW 13,02 Termijn dec 2021 Klantnr 25131236 CRN 3015061646 Eef Kamerbeekstra 206  1095 MP AMST|75.0     |        |bunq   |NL             |                 |    |null                    |euro    |null           |             |                 |                |\n",
      "|2022-01-04 00:00:00|Nomzamo Ncube                                         |null                                                                                                                          |300.0    |        |bunq   |NL             |                 |    |null                    |euro    |null           |             |                 |                |\n",
      "|2022-01-05 00:00:00|BUDGET MOBIEL                                         |O226496421/+31610316325 - Onbeperkt 1 jaar incl. 3 maanden korting EUR 5,00 (kenmerk: 1200-0000-3125-9548)                    |15.0     |        |bunq   |NL             |                 |    |null                    |euro    |null           |             |                 |                |\n",
      "|2022-01-06 00:00:00|GREENCHOICE                                           |Uw termijnnota met notanummer GC0084939194 over januari 2022 voor postcode 1095MP                                             |43.0     |        |bunq   |NL             |                 |    |null                    |euro    |null           |             |                 |                |\n",
      "|2022-01-06 00:00:00|Trainmore Piet Heinkade                               |01-01-2022 / 31-01-2022                                                                                                       |44.0     |        |bunq   |NL             |                 |    |null                    |euro    |null           |             |                 |                |\n",
      "|2022-01-11 00:00:00|Nomzamo Ncube                                         |null                                                                                                                          |250.0    |        |bunq   |NL             |                 |    |null                    |euro    |null           |             |                 |                |\n",
      "|2022-01-13 00:00:00|NS Groep N.V.                                         |R010210190054 0030009239627326 NSFLEXR01_0210190054                                                                           |5.1      |        |bunq   |NL             |                 |    |null                    |euro    |null           |             |                 |                |\n",
      "|2022-01-17 00:00:00|DITZO                                                 |7585397304 Premie periode 15-01-2022 - 14-02-2022 Ditzo Doorlopende Reisverz.                                                 |2.77     |        |bunq   |NL             |                 |    |null                    |euro    |null           |             |                 |                |\n",
      "|2022-01-19 00:00:00|bunq                                                  |invoice 7484677                                                                                                               |8.99     |        |bunq   |NL             |                 |    |null                    |euro    |null           |             |                 |                |\n",
      "|2022-01-23 00:00:00|DHL International B.V. via WorldPay Customer Payments |21536643783 0030009332558834 Betaling op DHL Global Payment P                                                                 |70.91    |        |bunq   |NL             |                 |    |null                    |euro    |null           |             |                 |                |\n",
      "|2022-01-23 00:00:00|NS-Schiphol 212                                       |NS-Schiphol 212 LUCHTHAVEN SC, NL                                                                                             |5.7      |        |bunq   |NL             |                 |    |null                    |euro    |null           |             |                 |                |\n",
      "|2022-01-24 00:00:00|ALBERT HEIJN 2211                                     |ALBERT HEIJN 2211 AMSTERDAM, NL                                                                                               |14.51    |        |bunq   |NL             |                 |    |null                    |euro    |null           |             |                 |                |\n",
      "|2022-01-24 00:00:00|EMAKINA.NL B.V.                                       |Salaris Januari 2022                                                                                                          |         |3679.74 |bunq   |NL             |                 |    |null                    |euro    |null           |             |                 |                |\n",
      "|2022-01-26 00:00:00|T-MOBILE THUIS B.V.                                   |T-Mobile Thuis NTV56735 Factuur TMT1021295832                                                                                 |35.0     |        |bunq   |NL             |                 |    |null                    |euro    |null           |             |                 |                |\n",
      "|2022-01-26 00:00:00|ALBERT HEIJN 2211                                     |ALBERT HEIJN 2211 AMSTERDAM, NL                                                                                               |9.92     |        |bunq   |NL             |                 |    |null                    |euro    |null           |             |                 |                |\n",
      "|2022-01-26 00:00:00|Thuisbezorgd.nl via Takeaway.com                      |MQCLTA 0030009371716422 bestelling Natraj Indian Resta via                                                                    |18.14    |        |bunq   |NL             |                 |    |null                    |euro    |null           |             |                 |                |\n",
      "|2022-01-26 00:00:00|BPD Woningfonds                                       |Eef kamerbeekstraat 206                                                                                                       |1207.0   |        |bunq   |NL             |                 |    |null                    |euro    |null           |             |                 |                |\n",
      "|2022-01-26 00:00:00|Barnwoodweb by MultiSafepay collecting for Barnwoodweb|557397999 1151000557397999 Payment for order #BWW-00083079 Barnwoodweb                                                        |34.9     |        |bunq   |NL             |                 |    |null                    |euro    |null           |             |                 |                |\n",
      "|2022-01-26 00:00:00|Paint-discount via PAY.nl                             |1678166106X3a89e 0370240462510574 Paintdiscount.nl 25193560834232                                                             |10.9     |        |bunq   |NL             |                 |    |null                    |euro    |null           |             |                 |                |\n",
      "+-------------------+------------------------------------------------------+------------------------------------------------------------------------------------------------------------------------------+---------+--------+-------+---------------+-----------------+----+------------------------+--------+---------------+-------------+-----------------+----------------+\n",
      "only showing top 20 rows\n",
      "\n"
     ]
    }
   ],
   "source": [
    "tots.show(truncate=False)"
   ]
  },
  {
   "cell_type": "code",
   "execution_count": 22,
   "id": "53269024-1c2e-4ffd-ad9e-fa4d310db86f",
   "metadata": {},
   "outputs": [],
   "source": [
    "tots.toPandas().to_csv('tots.csv')"
   ]
  },
  {
   "cell_type": "code",
   "execution_count": null,
   "id": "343f2d28-9144-404d-bea6-472e4f842386",
   "metadata": {},
   "outputs": [],
   "source": []
  }
 ],
 "metadata": {
  "kernelspec": {
   "display_name": "Python 3 (ipykernel)",
   "language": "python",
   "name": "python3"
  },
  "language_info": {
   "codemirror_mode": {
    "name": "ipython",
    "version": 3
   },
   "file_extension": ".py",
   "mimetype": "text/x-python",
   "name": "python",
   "nbconvert_exporter": "python",
   "pygments_lexer": "ipython3",
   "version": "3.10.6"
  }
 },
 "nbformat": 4,
 "nbformat_minor": 5
}
