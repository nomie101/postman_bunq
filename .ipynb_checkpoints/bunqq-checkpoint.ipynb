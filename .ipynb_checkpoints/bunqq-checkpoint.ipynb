{
 "cells": [
  {
   "cell_type": "markdown",
   "id": "1b2f1889-a5d8-4af1-9d29-c1666c93d8c2",
   "metadata": {},
   "source": [
    "#INGEST STATEMENT"
   ]
  },
  {
   "cell_type": "code",
   "execution_count": 19,
   "id": "82b6f9db-0ec2-48c0-941d-3ee221c06d61",
   "metadata": {},
   "outputs": [],
   "source": [
    "import import_ipynb"
   ]
  },
  {
   "cell_type": "code",
   "execution_count": 27,
   "id": "7ee00dc9-f5c6-4c1e-a970-35c001c05e65",
   "metadata": {},
   "outputs": [],
   "source": [
    "from modules.ingest_statement import *"
   ]
  },
  {
   "cell_type": "code",
   "execution_count": 28,
   "id": "dbded8a8-d961-4a44-917c-8ecb22b2d44f",
   "metadata": {},
   "outputs": [],
   "source": [
    "X=create_onedrive_directdownload('https://1drv.ms/x/s!AiVkYGtq2xelg8Qri9XuUzhAcHgLng?e=oklEp6')"
   ]
  },
  {
   "cell_type": "code",
   "execution_count": 30,
   "id": "7e7ddda2-593d-46ea-aa7d-132d11a8c1f9",
   "metadata": {
    "tags": []
   },
   "outputs": [],
   "source": [
    "cap_tbl=read_files(X)"
   ]
  },
  {
   "cell_type": "code",
   "execution_count": 39,
   "id": "2f0246ec-c21c-4f22-94f1-1b4145e198c1",
   "metadata": {},
   "outputs": [
    {
     "name": "stdout",
     "output_type": "stream",
     "text": [
      "+--------------------+--------------------+------+--------------------+----------------+----------------------+--------------+-------+--------+---------------+--------------------+-------------+-----------------+----------------+\n",
      "|                date|          postedDate|amount|         description|recurringPayment|originalCurrencyAmount|conversionRate|   type|currency|debitCreditCode|       merchant.name|merchant.town|merchant.postCode|merchant.country|\n",
      "+--------------------+--------------------+------+--------------------+----------------+----------------------+--------------+-------+--------+---------------+--------------------+-------------+-----------------+----------------+\n",
      "|2022-08-22T00:00:00Z|2022-08-23T17:04:39Z| 36.39|Trainline London GBR|           false|                 36.39|           1.0|Current|     GBP|          Debit|           Trainline|       London|         EC1N 2TD|             GBR|\n",
      "|2022-08-22T00:00:00Z|2022-08-23T17:04:40Z|   2.3|ARRIVA KENT THAME...|           false|                   2.3|           1.0|Current|     GBP|          Debit|ARRIVA KENT THAME...|    MAIDSTONE|         ME15 6TX|             GBR|\n",
      "|2022-08-19T00:00:00Z|2022-08-21T17:07:12Z|   4.6|ARRIVA KENT THAME...|           false|                   4.6|           1.0|Current|     GBP|          Debit|ARRIVA KENT THAME...|    MAIDSTONE|         ME15 6TX|             GBR|\n",
      "|2022-08-19T00:00:00Z|2022-08-21T17:07:13Z| 23.65|SUPERDRUG STORES ...|           false|                 23.65|           1.0|Current|     GBP|          Debit|SUPERDRUG STORES PLC|     SOUTHEND|          SS1 1JD|             GBR|\n",
      "|2022-08-19T00:00:00Z|2022-08-21T17:07:14Z| 26.65|PIZZA EXPRESS SOU...|           false|                 26.65|           1.0|Current|     GBP|          Debit|       PIZZA EXPRESS|SOUTHEND 1311|           SS11PR|             GBR|\n",
      "|2022-08-18T00:00:00Z|2022-08-19T17:06:35Z|   9.0|OLIVE OIL & OREGA...|           false|                   9.0|           1.0|Current|     GBP|          Debit| OLIVE OIL & OREGANO|   GRAYS RM20|         RM20 2ZN|             GBR|\n",
      "|2022-08-18T00:00:00Z|2022-08-19T17:06:36Z|   4.6|ARRIVA KENT THAME...|           false|                   4.6|           1.0|Current|     GBP|          Debit|ARRIVA KENT THAME...|    MAIDSTONE|         ME15 6TX|             GBR|\n",
      "|2022-08-18T00:00:00Z|2022-08-19T17:06:37Z|   1.0|BOOTS/0944 SOUTHE...|           false|                   1.0|           1.0|Current|     GBP|          Debit|          BOOTS/0944|SOUTHEND ON S|          SS1 1DE|             GBR|\n",
      "|2022-08-18T00:00:00Z|2022-08-19T17:06:38Z| 17.96|CRAZY CAVE Southe...|           false|                 17.96|           1.0|Current|     GBP|          Debit|          CRAZY CAVE|Southend-On-S|          SS1 1JF|             GBR|\n",
      "|2022-08-18T00:00:00Z|2022-08-19T17:06:39Z|  4.45|Yole Lakeside Gra...|           false|                  4.45|           1.0|Current|     GBP|          Debit|       Yole Lakeside|        Grays|         RM20 2ZP|             GBR|\n",
      "|2022-08-16T00:00:00Z|2022-08-18T17:04:42Z| 23.75|WWW.JUST-EAT.CO.U...|           false|                 23.75|           1.0|Current|     GBP|          Debit|  WWW.JUST-EAT.CO.UK| 02067 362061|          WD6 1JN|             GBR|\n",
      "|2022-08-14T00:00:00Z|2022-08-15T17:05:42Z|  9.99|PAYPAL *SPOTIFY 3...|           false|                  9.99|           1.0|Current|     GBP|          Debit|     PAYPAL *SPOTIFY|  35314369001|           W1F7TU|             GBR|\n",
      "|2022-08-13T00:00:00Z|2022-08-14T17:06:34Z|  38.5|ASDA SUPERSTORE S...|           false|                  38.5|           1.0|Current|     GBP|          Debit|     ASDA SUPERSTORE| SHOEBURYNESS|          SS3 8DA|             GBR|\n",
      "|2022-08-12T00:00:00Z|2022-08-14T17:06:33Z| 41.14|ASDA SUPERSTORE S...|           false|                 41.14|           1.0|Current|     GBP|          Debit|     ASDA SUPERSTORE| SHOEBURYNESS|          SS3 8DA|             GBR|\n",
      "|2022-08-11T00:00:00Z|2022-08-12T17:06:21Z|  3.95|MARIE CURIE CANCE...|           false|                  3.95|           1.0|Current|     GBP|          Debit|MARIE CURIE CANCE...|      SWINDON|          SS3 8DA|             GBR|\n",
      "|2022-08-11T00:00:00Z|2022-08-14T17:06:31Z|   2.0|ASDA SUPERSTORE S...|           false|                   2.0|           1.0|Current|     GBP|          Debit|     ASDA SUPERSTORE| SHOEBURYNESS|          SS3 8DA|             GBR|\n",
      "|2022-08-11T00:00:00Z|2022-08-14T17:06:32Z| 17.45|ASDA SUPERSTORE S...|           false|                 17.45|           1.0|Current|     GBP|          Debit|     ASDA SUPERSTORE| SHOEBURYNESS|          SS3 8DA|             GBR|\n",
      "|2022-08-10T00:00:00Z|2022-08-11T17:06:17Z|  7.31|PAYPAL *UBERPAYME...|           false|                  7.31|           1.0|Current|     GBP|          Debit| PAYPAL *UBERPAYMENT|  35314369001|           1097DP|             NLD|\n",
      "|2022-08-10T00:00:00Z|2022-08-11T17:06:18Z|  17.7|          TSGN LUTON|           false|                  17.7|           1.0|Current|     GBP|          Debit|                TSGN|        LUTON|          LU1 3JW|             GBR|\n",
      "|2022-08-05T00:00:00Z|2022-08-08T17:09:09Z| 19.74|PAYPAL *UBERPAYME...|           false|                 19.74|           1.0| Cycled|     GBP|          Debit| PAYPAL *UBERPAYMENT|  35314369001|           1097DP|             NLD|\n",
      "+--------------------+--------------------+------+--------------------+----------------+----------------------+--------------+-------+--------+---------------+--------------------+-------------+-----------------+----------------+\n",
      "only showing top 20 rows\n",
      "\n"
     ]
    }
   ],
   "source": [
    "cap_tbl.select('*').where(cap_tbl.amount > 0 ).show()"
   ]
  },
  {
   "cell_type": "code",
   "execution_count": null,
   "id": "4199157a-878b-4d27-a731-04135fc363a7",
   "metadata": {},
   "outputs": [],
   "source": []
  }
 ],
 "metadata": {
  "kernelspec": {
   "display_name": "Python 3 (ipykernel)",
   "language": "python",
   "name": "python3"
  },
  "language_info": {
   "codemirror_mode": {
    "name": "ipython",
    "version": 3
   },
   "file_extension": ".py",
   "mimetype": "text/x-python",
   "name": "python",
   "nbconvert_exporter": "python",
   "pygments_lexer": "ipython3",
   "version": "3.10.6"
  }
 },
 "nbformat": 4,
 "nbformat_minor": 5
}
